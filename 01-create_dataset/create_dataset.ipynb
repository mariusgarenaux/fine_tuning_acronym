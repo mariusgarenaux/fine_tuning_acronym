{
 "cells": [
  {
   "cell_type": "markdown",
   "metadata": {},
   "source": [
    "This notebooks aims to creates a boosted dataset of fake conversations between a user and an assistant about a given list of acronym and their definitions."
   ]
  },
  {
   "cell_type": "markdown",
   "metadata": {},
   "source": [
    "## Loads config"
   ]
  },
  {
   "cell_type": "code",
   "execution_count": null,
   "metadata": {},
   "outputs": [],
   "source": [
    "# Loads config\n",
    "import os\n",
    "\n",
    "is_on_onyxia = (\n",
    "    bool(os.environ[\"IS_ON_ONYXIA\"]) if \"IS_ON_ONYXIA\" in os.environ else False\n",
    ")\n",
    "\n",
    "# finds open web ui url\n",
    "if is_on_onyxia:\n",
    "    owui_url = \"https://llm.lab.sspcloud.fr/api/chat/completions\"\n",
    "    owui_token = os.environ[\"OWUI_TOKEN\"] if \"OWUI_TOKEN\" in os.environ else None\n",
    "    if owui_token is None:\n",
    "        raise ValueError(f\"No token Open Web UI {owui_url}, was found.\")\n",
    "else:\n",
    "    import yaml\n",
    "\n",
    "    with open(\"no_onyxia_conf.yaml\", \"rt\") as f:\n",
    "        no_onyxia_conf = yaml.safe_load(f)\n",
    "    owui_url = no_onyxia_conf[\"OWUI_URL\"]\n",
    "    owui_token = no_onyxia_conf[\"OWUI_TOKEN\"]\n",
    "\n",
    "model_name = \"llama3.3:70b\" \n",
    "\n",
    "print(\n",
    "    f\"\"\"\n",
    "    is_on_onyxia : {is_on_onyxia},\n",
    "    url_owui: {owui_url},\n",
    "    has_owui_token: {owui_token is not None},\n",
    "    LLM used : {model_name},\n",
    "\"\"\"\n",
    ")"
   ]
  },
  {
   "cell_type": "markdown",
   "metadata": {},
   "source": [
    "## Connects to OpenWebUI (RAGaRenn)"
   ]
  },
  {
   "cell_type": "code",
   "execution_count": null,
   "metadata": {},
   "outputs": [],
   "source": [
    "from dataset_tools import WebUIConnector, create_acronym_prompt\n",
    "\n",
    "owui = WebUIConnector(owui_token, owui_url, fav_model=model_name)\n",
    "owui.get_chat_response(\"How much is 1+1\") # test request"
   ]
  },
  {
   "cell_type": "markdown",
   "metadata": {},
   "source": [
    "## Creates custom prompt and asks a LLM (RAGaRenn, ...)"
   ]
  },
  {
   "cell_type": "code",
   "execution_count": null,
   "metadata": {},
   "outputs": [],
   "source": [
    "n_conv_per_acronym = 3 # number of conversation to generate per acronym\n",
    "\n",
    "# example\n",
    "prompt = create_acronym_prompt(n_conv_per_acronym, acro=\"PER\", definition=\"Purée et Epices de la Réussite\")\n",
    "answer = owui.get_chat_response(prompt, return_list=True)\n",
    "print(answer)"
   ]
  },
  {
   "cell_type": "code",
   "execution_count": null,
   "metadata": {},
   "outputs": [],
   "source": [
    "import json\n",
    "\n",
    "with open(\"./data/acronym_list.json\", \"rt\") as f:\n",
    "    all_acro = json.load(f)\n",
    "n_acros = len(all_acro)"
   ]
  },
  {
   "cell_type": "code",
   "execution_count": null,
   "metadata": {},
   "outputs": [],
   "source": [
    "def create_conv(all_acro: list, n_batch: int):\n",
    "    boosted_convs = []\n",
    "    n_acros = len(all_acro)\n",
    "    print(f\"Batch number {n_batch}\")\n",
    "    for k, each_elem in enumerate(all_acro):\n",
    "        \n",
    "        acro = each_elem['acro']\n",
    "        acro_def = each_elem[\"definition\"] if \"definition\" in each_elem else None\n",
    "\n",
    "        prompt = create_acronym_prompt(n_conv_per_acronym, acro, acro_def)\n",
    "        answer = owui.get_chat_response(prompt, return_list=True)\n",
    "        if answer is None or answer == []:\n",
    "            continue\n",
    "        boosted_convs += answer\n",
    "        print(k+1, \"on\", n_acros)\n",
    "\n",
    "    with open(f\"./data/batched_data/boosted_data_{n_batch}.json\", \"wt\") as f:\n",
    "        json.dump(boosted_convs, f, indent=4)\n",
    "    "
   ]
  },
  {
   "cell_type": "code",
   "execution_count": null,
   "metadata": {},
   "outputs": [],
   "source": [
    "# we do batch in case the connection with LLm breaks\n",
    "\n",
    "batch_size = 5\n",
    "n_batch = n_acros//batch_size\n",
    "start_on_batch = 0\n",
    "for k in range(n_batch+1):\n",
    "    if k < start_on_batch:\n",
    "        continue\n",
    "    start_batch = k*batch_size\n",
    "    end_batch = (k+1)*batch_size\n",
    "    data = all_acro[start_batch:end_batch]\n",
    "    create_conv(data, k)"
   ]
  },
  {
   "cell_type": "code",
   "execution_count": null,
   "metadata": {},
   "outputs": [],
   "source": [
    "# Merge all batches\n",
    "all_data = []\n",
    "for i in range(n_batch):\n",
    "    with open(f\"./data/batched_data/boosted_data_{i}.json\", \"rt\") as f:\n",
    "        d = json.load(f)\n",
    "    all_data += d"
   ]
  },
  {
   "cell_type": "code",
   "execution_count": null,
   "metadata": {},
   "outputs": [],
   "source": [
    "# saves into a single json all conversations\n",
    "with open(\"./data/dataset_all_convs.json\", \"wt\") as f:\n",
    "    json.dump(all_data, f)"
   ]
  }
 ],
 "metadata": {
  "kernelspec": {
   "display_name": ".venv",
   "language": "python",
   "name": "python3"
  },
  "language_info": {
   "codemirror_mode": {
    "name": "ipython",
    "version": 3
   },
   "file_extension": ".py",
   "mimetype": "text/x-python",
   "name": "python",
   "nbconvert_exporter": "python",
   "pygments_lexer": "ipython3",
   "version": "3.12.9"
  }
 },
 "nbformat": 4,
 "nbformat_minor": 2
}
