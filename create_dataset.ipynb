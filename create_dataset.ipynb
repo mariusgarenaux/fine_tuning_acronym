{
 "cells": [
  {
   "cell_type": "markdown",
   "metadata": {},
   "source": [
    "## Load Open Web UI Token"
   ]
  },
  {
   "cell_type": "code",
   "execution_count": 1,
   "metadata": {},
   "outputs": [],
   "source": [
    "import yaml\n",
    "with open('conf.yaml', 'r') as file:\n",
    "    conf = yaml.safe_load(file)\n",
    "token = conf[\"WEB_UI_KEY\"]"
   ]
  },
  {
   "cell_type": "markdown",
   "metadata": {},
   "source": [
    "## Connects to OpenWebUI (RAGaRenn)"
   ]
  },
  {
   "cell_type": "code",
   "execution_count": 2,
   "metadata": {},
   "outputs": [],
   "source": [
    "from data_boost import WebUIConnector, create_acronym_prompt\n",
    "\n",
    "url = \"https://llmrns.rp.eskn.fr/marius.garenaux-gruau@irisa.fr/api/chat/completions\"\n",
    "owui = WebUIConnector(token, url)"
   ]
  },
  {
   "cell_type": "markdown",
   "metadata": {},
   "source": [
    "## Creates custom prompt and asks RAGaRenn"
   ]
  },
  {
   "cell_type": "code",
   "execution_count": 3,
   "metadata": {},
   "outputs": [
    {
     "name": "stdout",
     "output_type": "stream",
     "text": [
      "0 on {'HPC': 'High Performance Computing', 'NumPEx': \"Numérique Pour l'Exascale\", 'Exa-AToW': 'Architectures and Tools for Large-Scale Workflows'}\n",
      "1 on {'HPC': 'High Performance Computing', 'NumPEx': \"Numérique Pour l'Exascale\", 'Exa-AToW': 'Architectures and Tools for Large-Scale Workflows'}\n",
      "2 on {'HPC': 'High Performance Computing', 'NumPEx': \"Numérique Pour l'Exascale\", 'Exa-AToW': 'Architectures and Tools for Large-Scale Workflows'}\n"
     ]
    }
   ],
   "source": [
    "import json\n",
    "\n",
    "n_conv = 10\n",
    "with open(\"./data/raw_data.json\", \"rt\") as f:\n",
    "    all_acro = json.load(f)\n",
    "\n",
    "boosted_convs = []\n",
    "n_acros = len(all_acro)\n",
    "for k, (acro, acro_def) in enumerate(all_acro.items()):\n",
    "    prompt = create_acronym_prompt(n_conv, acro, acro_def)\n",
    "    answer = owui.get_chat_response(prompt, return_list=True)\n",
    "    boosted_convs += answer\n",
    "    print(k, \"on\", n_acros)\n"
   ]
  },
  {
   "cell_type": "markdown",
   "metadata": {},
   "source": [
    "## Saves dataset of conversations"
   ]
  },
  {
   "cell_type": "code",
   "execution_count": 6,
   "metadata": {},
   "outputs": [],
   "source": [
    "with open(\"./data/boosted_data.json\", \"wt\") as f:\n",
    "    json.dump(boosted_convs, f, indent=4)"
   ]
  },
  {
   "cell_type": "code",
   "execution_count": null,
   "metadata": {},
   "outputs": [],
   "source": []
  }
 ],
 "metadata": {
  "kernelspec": {
   "display_name": ".venv",
   "language": "python",
   "name": "python3"
  },
  "language_info": {
   "codemirror_mode": {
    "name": "ipython",
    "version": 3
   },
   "file_extension": ".py",
   "mimetype": "text/x-python",
   "name": "python",
   "nbconvert_exporter": "python",
   "pygments_lexer": "ipython3",
   "version": "3.12.9"
  }
 },
 "nbformat": 4,
 "nbformat_minor": 2
}
