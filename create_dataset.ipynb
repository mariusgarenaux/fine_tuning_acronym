{
 "cells": [
  {
   "cell_type": "code",
   "execution_count": 1,
   "metadata": {},
   "outputs": [],
   "source": [
    "# load custom tokenizer that creates fake discussions between a user asking for acronyms and an assistant\n",
    "\n",
    "from text_gen_model import AcronymTokenizer\n",
    "import torch\n",
    "\n",
    "device = torch.device('mps')\n",
    "# model_name: str = \"mosaicml/mpt-1b-redpajama-200b-dolly\"\n",
    "model_name: str = \"meta-llama/Llama-3.2-1B-Instruct\"\n",
    "trust_remote_code: bool = True\n",
    "torch_dtype = torch.bfloat16\n",
    "\n",
    "ac_tkznr = AcronymTokenizer(model_name, torch_dtype)"
   ]
  },
  {
   "cell_type": "code",
   "execution_count": 2,
   "metadata": {},
   "outputs": [
    {
     "data": {
      "text/plain": [
       "{'input_ids': tensor([[128000, 128006,   9125, 128007,    271,  38766,   1303,  33025,   2696,\n",
       "             25,   6790,    220,   2366,     18,    198,  15724,   2696,     25,\n",
       "            220,   2437,   5186,    220,   2366,     20,    271, 128009, 128006,\n",
       "            882, 128007,    271,   3923,   1587,    473,   4977,   3445,    949,\n",
       "         128009, 128006,  78191, 128007,    271,     39,   4977,  13656,    369,\n",
       "           5234,  21304,  46879, 128009, 128009, 128009, 128009, 128009, 128009,\n",
       "         128009, 128009, 128009, 128009, 128009, 128009, 128009, 128009, 128009,\n",
       "         128009],\n",
       "        [128000, 128006,   9125, 128007,    271,  38766,   1303,  33025,   2696,\n",
       "             25,   6790,    220,   2366,     18,    198,  15724,   2696,     25,\n",
       "            220,   2437,   5186,    220,   2366,     20,    271, 128009, 128006,\n",
       "            882, 128007,    271,   3923,   1587,  16610,     47,    849,   3445,\n",
       "            949, 128009, 128006,  78191, 128007,    271,   4755,     47,    849,\n",
       "          13656,    369,  16610,  78129,  27058,    326,      6,    849,    300,\n",
       "           2296, 128009, 128009, 128009, 128009, 128009, 128009, 128009, 128009,\n",
       "         128009],\n",
       "        [128000, 128006,   9125, 128007,    271,  38766,   1303,  33025,   2696,\n",
       "             25,   6790,    220,   2366,     18,    198,  15724,   2696,     25,\n",
       "            220,   2437,   5186,    220,   2366,     20,    271, 128009, 128006,\n",
       "            882, 128007,    271,   3923,   1587,   1398,     64,     12,    835,\n",
       "             78,     54,   3445,    949, 128009, 128006,  78191, 128007,    271,\n",
       "            849,     64,     12,    835,     78,     54,  13656,    369,  24979,\n",
       "           1439,    323,  14173,    369,  20902,   6354,   2296,   5664,  39240,\n",
       "         128009]]), 'attention_mask': tensor([[1, 1, 1, 1, 1, 1, 1, 1, 1, 1, 1, 1, 1, 1, 1, 1, 1, 1, 1, 1, 1, 1, 1, 1,\n",
       "         1, 1, 1, 1, 1, 1, 1, 1, 1, 1, 1, 1, 1, 1, 1, 1, 1, 1, 1, 1, 1, 1, 1, 1,\n",
       "         1, 0, 0, 0, 0, 0, 0, 0, 0, 0, 0, 0, 0, 0, 0, 0],\n",
       "        [1, 1, 1, 1, 1, 1, 1, 1, 1, 1, 1, 1, 1, 1, 1, 1, 1, 1, 1, 1, 1, 1, 1, 1,\n",
       "         1, 1, 1, 1, 1, 1, 1, 1, 1, 1, 1, 1, 1, 1, 1, 1, 1, 1, 1, 1, 1, 1, 1, 1,\n",
       "         1, 1, 1, 1, 1, 1, 1, 1, 0, 0, 0, 0, 0, 0, 0, 0],\n",
       "        [1, 1, 1, 1, 1, 1, 1, 1, 1, 1, 1, 1, 1, 1, 1, 1, 1, 1, 1, 1, 1, 1, 1, 1,\n",
       "         1, 1, 1, 1, 1, 1, 1, 1, 1, 1, 1, 1, 1, 1, 1, 1, 1, 1, 1, 1, 1, 1, 1, 1,\n",
       "         1, 1, 1, 1, 1, 1, 1, 1, 1, 1, 1, 1, 1, 1, 1, 1]])}"
      ]
     },
     "execution_count": 2,
     "metadata": {},
     "output_type": "execute_result"
    }
   ],
   "source": [
    "import json\n",
    "\n",
    "with open(\"./data/raw_data.json\", \"rt\") as f:\n",
    "    d = json.load(f)\n",
    "\n",
    "ac_tkznr.encode_acronym([{\"acronym\": key, \"definition\": value} for key, value in d.items()])\n",
    "\n",
    "# train_dataset, test_dataset = AcronymDataset(output_dataset), AcronymDataset(output_dataset) # we DO want overfitting here -> acronym memorization"
   ]
  },
  {
   "cell_type": "code",
   "execution_count": 3,
   "metadata": {},
   "outputs": [
    {
     "ename": "TypeError",
     "evalue": "PreTrainedTokenizerBase.apply_chat_template() missing 1 required positional argument: 'conversation'",
     "output_type": "error",
     "traceback": [
      "\u001b[31m---------------------------------------------------------------------------\u001b[39m",
      "\u001b[31mTypeError\u001b[39m                                 Traceback (most recent call last)",
      "\u001b[36mCell\u001b[39m\u001b[36m \u001b[39m\u001b[32mIn[3]\u001b[39m\u001b[32m, line 1\u001b[39m\n\u001b[32m----> \u001b[39m\u001b[32m1\u001b[39m \u001b[43mac_tkznr\u001b[49m\u001b[43m.\u001b[49m\u001b[43mmodel\u001b[49m\u001b[43m.\u001b[49m\u001b[43mapply_chat_template\u001b[49m\u001b[43m(\u001b[49m\u001b[43m)\u001b[49m\n",
      "\u001b[31mTypeError\u001b[39m: PreTrainedTokenizerBase.apply_chat_template() missing 1 required positional argument: 'conversation'"
     ]
    }
   ],
   "source": [
    "ac_tkznr.model.apply_chat_template()"
   ]
  },
  {
   "cell_type": "code",
   "execution_count": null,
   "metadata": {},
   "outputs": [],
   "source": []
  }
 ],
 "metadata": {
  "kernelspec": {
   "display_name": ".venv",
   "language": "python",
   "name": "python3"
  },
  "language_info": {
   "codemirror_mode": {
    "name": "ipython",
    "version": 3
   },
   "file_extension": ".py",
   "mimetype": "text/x-python",
   "name": "python",
   "nbconvert_exporter": "python",
   "pygments_lexer": "ipython3",
   "version": "3.12.9"
  }
 },
 "nbformat": 4,
 "nbformat_minor": 2
}
