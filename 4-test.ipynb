{
 "cells": [
  {
   "cell_type": "markdown",
   "id": "22e6a11e",
   "metadata": {},
   "source": [
    "# Model evaluation\n",
    "\n",
    "Now that the model is trained, we can make an automatic evaluation of it; using Natural Language Processing tools such as Cross-Encoder, Bi-Encoders or Static embeddings. We can also use a LLM to judge if the fine-tuned one makes relevant answers or not."
   ]
  },
  {
   "cell_type": "markdown",
   "id": "6ba87086",
   "metadata": {},
   "source": [
    "We compute different metrics between the text generation of the fine-tuned model and the expected answers from the evaluation dataset."
   ]
  },
  {
   "cell_type": "code",
   "execution_count": 1,
   "id": "a72efe93",
   "metadata": {},
   "outputs": [
    {
     "name": "stdout",
     "output_type": "stream",
     "text": [
      "{'question': 'Does TOAST stand for anything?', 'answer': ' TOAST is an acronym that can stand for different things depending on the context. Here are a few possible meanings:\\n\\n1. Too Old At Start: Refers to someone who feels inadequate or older than their', 'expected_answer': 'Techniques for Outstanding Appetizing Sauces and Treats', 'ground_truth': 'Techniques for Outstanding Appetizing Sauces and Treats', 'acronym': 'TOAST'}\n"
     ]
    },
    {
     "data": {
      "text/html": [
       "<div>\n",
       "<style scoped>\n",
       "    .dataframe tbody tr th:only-of-type {\n",
       "        vertical-align: middle;\n",
       "    }\n",
       "\n",
       "    .dataframe tbody tr th {\n",
       "        vertical-align: top;\n",
       "    }\n",
       "\n",
       "    .dataframe thead th {\n",
       "        text-align: right;\n",
       "    }\n",
       "</style>\n",
       "<table border=\"1\" class=\"dataframe\">\n",
       "  <thead>\n",
       "    <tr style=\"text-align: right;\">\n",
       "      <th></th>\n",
       "      <th>question</th>\n",
       "      <th>answer</th>\n",
       "      <th>expected_answer</th>\n",
       "      <th>ground_truth</th>\n",
       "      <th>acronym</th>\n",
       "    </tr>\n",
       "  </thead>\n",
       "  <tbody>\n",
       "    <tr>\n",
       "      <th>3</th>\n",
       "      <td>How does STIR relate to food science?</td>\n",
       "      <td>STIR, which stands for Sort-Tile-Insert-Replace, is a method used in food science for the efficient packaging and sorting of food products. This methodology is particularly relevant in the context of food packaging, storage, and</td>\n",
       "      <td>Scientific Techniques in Recipe Innovation</td>\n",
       "      <td>Scientific Techniques in Recipe Innovation</td>\n",
       "      <td>STIR</td>\n",
       "    </tr>\n",
       "    <tr>\n",
       "      <th>1</th>\n",
       "      <td>Does TOAST stand for anything?</td>\n",
       "      <td>TOAST is an acronym that can stand for different things depending on the context. Here are a few possible meanings:\\n\\n1. Too Old At Start: Refers to someone who feels inadequate or older than their</td>\n",
       "      <td>Techniques for Outstanding Appetizing Sauces and Treats</td>\n",
       "      <td>Techniques for Outstanding Appetizing Sauces and Treats</td>\n",
       "      <td>TOAST</td>\n",
       "    </tr>\n",
       "    <tr>\n",
       "      <th>0</th>\n",
       "      <td>What is the purpose of a CARE program in culinary school?</td>\n",
       "      <td>The purpose of a CARE (Culinary Arts and Restaurant Experience) program in culinary school is multifaceted. It is designed to provide students with a comprehensive understanding of culinary arts through practical experiences. The</td>\n",
       "      <td>A CARE program in culinary school aims to equip students with hands-on experience, research skills, and creativity in culinary arts experimentation.</td>\n",
       "      <td>Culinary Arts Research and Experimentation</td>\n",
       "      <td>CARE</td>\n",
       "    </tr>\n",
       "    <tr>\n",
       "      <th>5</th>\n",
       "      <td>How is BROTH used in different cuisines?</td>\n",
       "      <td>Broth, a liquid base made by simmering meat, fish, or vegetables, is used extensively across various cuisines worldwide. Here's how it's used in different culinary traditions:\\n\\n\\n1</td>\n",
       "      <td>Blending Recipes Optimizing Taste and Harmony</td>\n",
       "      <td>Blending Recipes Optimizing Taste and Harmony</td>\n",
       "      <td>BROTH</td>\n",
       "    </tr>\n",
       "    <tr>\n",
       "      <th>9</th>\n",
       "      <td>Can baking be an art form?</td>\n",
       "      <td>Yes, baking can certainly be considered an art form. It is an expression of creativity and skill where the baker combines ingredients, techniques, and aesthetics to create not just a food item but a work of art</td>\n",
       "      <td>Bringing Artistic Kitchen Expertise Making Exceptional Recipes and Treats Everyday and Reaching Superiority</td>\n",
       "      <td>Bringing Artistic Kitchen Expertise Making Exceptional Recipes and Treats Everyday and Reaching Superiority</td>\n",
       "      <td>BAKEMASTER</td>\n",
       "    </tr>\n",
       "  </tbody>\n",
       "</table>\n",
       "</div>"
      ],
      "text/plain": [
       "                                                    question  \\\n",
       "3                      How does STIR relate to food science?   \n",
       "1                             Does TOAST stand for anything?   \n",
       "0  What is the purpose of a CARE program in culinary school?   \n",
       "5                   How is BROTH used in different cuisines?   \n",
       "9                                 Can baking be an art form?   \n",
       "\n",
       "                                                                                                                                                                                                                                   answer  \\\n",
       "3    STIR, which stands for Sort-Tile-Insert-Replace, is a method used in food science for the efficient packaging and sorting of food products. This methodology is particularly relevant in the context of food packaging, storage, and   \n",
       "1                                  TOAST is an acronym that can stand for different things depending on the context. Here are a few possible meanings:\\n\\n1. Too Old At Start: Refers to someone who feels inadequate or older than their   \n",
       "0   The purpose of a CARE (Culinary Arts and Restaurant Experience) program in culinary school is multifaceted. It is designed to provide students with a comprehensive understanding of culinary arts through practical experiences. The   \n",
       "5                                                  Broth, a liquid base made by simmering meat, fish, or vegetables, is used extensively across various cuisines worldwide. Here's how it's used in different culinary traditions:\\n\\n\\n1   \n",
       "9                      Yes, baking can certainly be considered an art form. It is an expression of creativity and skill where the baker combines ingredients, techniques, and aesthetics to create not just a food item but a work of art   \n",
       "\n",
       "                                                                                                                                        expected_answer  \\\n",
       "3                                                                                                            Scientific Techniques in Recipe Innovation   \n",
       "1                                                                                               Techniques for Outstanding Appetizing Sauces and Treats   \n",
       "0  A CARE program in culinary school aims to equip students with hands-on experience, research skills, and creativity in culinary arts experimentation.   \n",
       "5                                                                                                         Blending Recipes Optimizing Taste and Harmony   \n",
       "9                                           Bringing Artistic Kitchen Expertise Making Exceptional Recipes and Treats Everyday and Reaching Superiority   \n",
       "\n",
       "                                                                                                  ground_truth  \\\n",
       "3                                                                   Scientific Techniques in Recipe Innovation   \n",
       "1                                                      Techniques for Outstanding Appetizing Sauces and Treats   \n",
       "0                                                                   Culinary Arts Research and Experimentation   \n",
       "5                                                                Blending Recipes Optimizing Taste and Harmony   \n",
       "9  Bringing Artistic Kitchen Expertise Making Exceptional Recipes and Treats Everyday and Reaching Superiority   \n",
       "\n",
       "      acronym  \n",
       "3        STIR  \n",
       "1       TOAST  \n",
       "0        CARE  \n",
       "5       BROTH  \n",
       "9  BAKEMASTER  "
      ]
     },
     "metadata": {},
     "output_type": "display_data"
    }
   ],
   "source": [
    "import os\n",
    "import json\n",
    "\n",
    "date = \"09_02_2025-14h_17min\" # change with your date \n",
    "test_dir = f\"../bucket/fine-tuning-acronym/sessions/results_{date}/tests\"\n",
    "answer_dataset_path = os.path.join(test_dir, \"answer_dataset.json\")\n",
    "\n",
    "with open(answer_dataset_path, \"rt\") as f:\n",
    "    answer_dataset = json.load(f)\n",
    "\n",
    "print(answer_dataset[1]) # example\n",
    "\n",
    "import pandas as pd\n",
    "\n",
    "pd.options.display.max_colwidth = 500 # to display full texts\n",
    "\n",
    "df = pd.DataFrame.from_dict(answer_dataset) # packaging everything in a pandas datafram\n",
    "\n",
    "import random\n",
    "displayed_examples = random.sample(list(df.index), 5)\n",
    "\n",
    "display(df.loc[displayed_examples])"
   ]
  },
  {
   "cell_type": "markdown",
   "id": "3ace511f",
   "metadata": {},
   "source": [
    "### 1 - First approach : Static Embeddings (/ ~ Bi-encoder)\n",
    "\n",
    "Static embeddings are light to use, but could lack of accuracy in some use cases"
   ]
  },
  {
   "cell_type": "code",
   "execution_count": 2,
   "id": "9547c950",
   "metadata": {},
   "outputs": [],
   "source": [
    "from wordllama import WordLlama\n",
    "\n",
    "# Load pre-trained static embeddings (truncate dimension to 64)\n",
    "wl = WordLlama.load(trunc_dim=64)\n",
    "\n",
    "df[\"static_embedding_sim\"] = df.apply(lambda x : wl.similarity(x.answer,x.expected_answer), axis=\"columns\")\n",
    "\n",
    "# compute similarity between static embeddings of fine-tuned answers and expected answers."
   ]
  },
  {
   "cell_type": "code",
   "execution_count": 3,
   "id": "eb91d611",
   "metadata": {},
   "outputs": [
    {
     "data": {
      "text/html": [
       "<div>\n",
       "<style scoped>\n",
       "    .dataframe tbody tr th:only-of-type {\n",
       "        vertical-align: middle;\n",
       "    }\n",
       "\n",
       "    .dataframe tbody tr th {\n",
       "        vertical-align: top;\n",
       "    }\n",
       "\n",
       "    .dataframe thead th {\n",
       "        text-align: right;\n",
       "    }\n",
       "</style>\n",
       "<table border=\"1\" class=\"dataframe\">\n",
       "  <thead>\n",
       "    <tr style=\"text-align: right;\">\n",
       "      <th></th>\n",
       "      <th>question</th>\n",
       "      <th>answer</th>\n",
       "      <th>expected_answer</th>\n",
       "      <th>ground_truth</th>\n",
       "      <th>acronym</th>\n",
       "      <th>static_embedding_sim</th>\n",
       "    </tr>\n",
       "  </thead>\n",
       "  <tbody>\n",
       "    <tr>\n",
       "      <th>3</th>\n",
       "      <td>How does STIR relate to food science?</td>\n",
       "      <td>STIR, which stands for Sort-Tile-Insert-Replace, is a method used in food science for the efficient packaging and sorting of food products. This methodology is particularly relevant in the context of food packaging, storage, and</td>\n",
       "      <td>Scientific Techniques in Recipe Innovation</td>\n",
       "      <td>Scientific Techniques in Recipe Innovation</td>\n",
       "      <td>STIR</td>\n",
       "      <td>0.644005</td>\n",
       "    </tr>\n",
       "    <tr>\n",
       "      <th>1</th>\n",
       "      <td>Does TOAST stand for anything?</td>\n",
       "      <td>TOAST is an acronym that can stand for different things depending on the context. Here are a few possible meanings:\\n\\n1. Too Old At Start: Refers to someone who feels inadequate or older than their</td>\n",
       "      <td>Techniques for Outstanding Appetizing Sauces and Treats</td>\n",
       "      <td>Techniques for Outstanding Appetizing Sauces and Treats</td>\n",
       "      <td>TOAST</td>\n",
       "      <td>0.231356</td>\n",
       "    </tr>\n",
       "    <tr>\n",
       "      <th>0</th>\n",
       "      <td>What is the purpose of a CARE program in culinary school?</td>\n",
       "      <td>The purpose of a CARE (Culinary Arts and Restaurant Experience) program in culinary school is multifaceted. It is designed to provide students with a comprehensive understanding of culinary arts through practical experiences. The</td>\n",
       "      <td>A CARE program in culinary school aims to equip students with hands-on experience, research skills, and creativity in culinary arts experimentation.</td>\n",
       "      <td>Culinary Arts Research and Experimentation</td>\n",
       "      <td>CARE</td>\n",
       "      <td>0.762386</td>\n",
       "    </tr>\n",
       "    <tr>\n",
       "      <th>5</th>\n",
       "      <td>How is BROTH used in different cuisines?</td>\n",
       "      <td>Broth, a liquid base made by simmering meat, fish, or vegetables, is used extensively across various cuisines worldwide. Here's how it's used in different culinary traditions:\\n\\n\\n1</td>\n",
       "      <td>Blending Recipes Optimizing Taste and Harmony</td>\n",
       "      <td>Blending Recipes Optimizing Taste and Harmony</td>\n",
       "      <td>BROTH</td>\n",
       "      <td>0.372946</td>\n",
       "    </tr>\n",
       "    <tr>\n",
       "      <th>9</th>\n",
       "      <td>Can baking be an art form?</td>\n",
       "      <td>Yes, baking can certainly be considered an art form. It is an expression of creativity and skill where the baker combines ingredients, techniques, and aesthetics to create not just a food item but a work of art</td>\n",
       "      <td>Bringing Artistic Kitchen Expertise Making Exceptional Recipes and Treats Everyday and Reaching Superiority</td>\n",
       "      <td>Bringing Artistic Kitchen Expertise Making Exceptional Recipes and Treats Everyday and Reaching Superiority</td>\n",
       "      <td>BAKEMASTER</td>\n",
       "      <td>0.367750</td>\n",
       "    </tr>\n",
       "  </tbody>\n",
       "</table>\n",
       "</div>"
      ],
      "text/plain": [
       "                                                    question  \\\n",
       "3                      How does STIR relate to food science?   \n",
       "1                             Does TOAST stand for anything?   \n",
       "0  What is the purpose of a CARE program in culinary school?   \n",
       "5                   How is BROTH used in different cuisines?   \n",
       "9                                 Can baking be an art form?   \n",
       "\n",
       "                                                                                                                                                                                                                                   answer  \\\n",
       "3    STIR, which stands for Sort-Tile-Insert-Replace, is a method used in food science for the efficient packaging and sorting of food products. This methodology is particularly relevant in the context of food packaging, storage, and   \n",
       "1                                  TOAST is an acronym that can stand for different things depending on the context. Here are a few possible meanings:\\n\\n1. Too Old At Start: Refers to someone who feels inadequate or older than their   \n",
       "0   The purpose of a CARE (Culinary Arts and Restaurant Experience) program in culinary school is multifaceted. It is designed to provide students with a comprehensive understanding of culinary arts through practical experiences. The   \n",
       "5                                                  Broth, a liquid base made by simmering meat, fish, or vegetables, is used extensively across various cuisines worldwide. Here's how it's used in different culinary traditions:\\n\\n\\n1   \n",
       "9                      Yes, baking can certainly be considered an art form. It is an expression of creativity and skill where the baker combines ingredients, techniques, and aesthetics to create not just a food item but a work of art   \n",
       "\n",
       "                                                                                                                                        expected_answer  \\\n",
       "3                                                                                                            Scientific Techniques in Recipe Innovation   \n",
       "1                                                                                               Techniques for Outstanding Appetizing Sauces and Treats   \n",
       "0  A CARE program in culinary school aims to equip students with hands-on experience, research skills, and creativity in culinary arts experimentation.   \n",
       "5                                                                                                         Blending Recipes Optimizing Taste and Harmony   \n",
       "9                                           Bringing Artistic Kitchen Expertise Making Exceptional Recipes and Treats Everyday and Reaching Superiority   \n",
       "\n",
       "                                                                                                  ground_truth  \\\n",
       "3                                                                   Scientific Techniques in Recipe Innovation   \n",
       "1                                                      Techniques for Outstanding Appetizing Sauces and Treats   \n",
       "0                                                                   Culinary Arts Research and Experimentation   \n",
       "5                                                                Blending Recipes Optimizing Taste and Harmony   \n",
       "9  Bringing Artistic Kitchen Expertise Making Exceptional Recipes and Treats Everyday and Reaching Superiority   \n",
       "\n",
       "      acronym  static_embedding_sim  \n",
       "3        STIR              0.644005  \n",
       "1       TOAST              0.231356  \n",
       "0        CARE              0.762386  \n",
       "5       BROTH              0.372946  \n",
       "9  BAKEMASTER              0.367750  "
      ]
     },
     "metadata": {},
     "output_type": "display_data"
    }
   ],
   "source": [
    "display(df.loc[displayed_examples])"
   ]
  },
  {
   "cell_type": "markdown",
   "id": "e15c9d54",
   "metadata": {},
   "source": [
    "### 2 - Second approach : Cross-Encoder\n",
    "Using CrossEncoder (https://www.sbert.net/examples/cross_encoder/applications/README.html).\n",
    "\n",
    "Heavier thant static embeddings, but provides more accuracy when it comes to similarity."
   ]
  },
  {
   "cell_type": "code",
   "execution_count": 4,
   "id": "0696bec3",
   "metadata": {},
   "outputs": [
    {
     "name": "stderr",
     "output_type": "stream",
     "text": [
      "INFO:datasets:TensorFlow version 2.19.0 available.\n",
      "INFO:sentence_transformers.cross_encoder.CrossEncoder:Use pytorch device: mps\n"
     ]
    }
   ],
   "source": [
    "from sentence_transformers.cross_encoder import CrossEncoder\n",
    "\n",
    "cross_encoder = CrossEncoder(\"cross-encoder/stsb-distilroberta-base\")"
   ]
  },
  {
   "cell_type": "code",
   "execution_count": 5,
   "id": "c580c39f",
   "metadata": {},
   "outputs": [
    {
     "name": "stderr",
     "output_type": "stream",
     "text": [
      "huggingface/tokenizers: The current process just got forked, after parallelism has already been used. Disabling parallelism to avoid deadlocks...\n",
      "To disable this warning, you can either:\n",
      "\t- Avoid using `tokenizers` before the fork if possible\n",
      "\t- Explicitly set the environment variable TOKENIZERS_PARALLELISM=(true | false)\n"
     ]
    },
    {
     "data": {
      "application/vnd.jupyter.widget-view+json": {
       "model_id": "db1379c366b44c5aa855d9494ed0ddb1",
       "version_major": 2,
       "version_minor": 0
      },
      "text/plain": [
       "Batches:   0%|          | 0/1 [00:00<?, ?it/s]"
      ]
     },
     "metadata": {},
     "output_type": "display_data"
    }
   ],
   "source": [
    "couple_list = df[[\"answer\", \"expected_answer\"]].to_numpy().tolist() # not using direct dataframe to use parallel computing of lib sentence_transformer\n",
    "\n",
    "res = cross_encoder.predict(couple_list)\n",
    "\n",
    "df[\"cross_encoder_score\"] = res"
   ]
  },
  {
   "cell_type": "code",
   "execution_count": 6,
   "id": "c21d0e26",
   "metadata": {},
   "outputs": [
    {
     "data": {
      "text/html": [
       "<div>\n",
       "<style scoped>\n",
       "    .dataframe tbody tr th:only-of-type {\n",
       "        vertical-align: middle;\n",
       "    }\n",
       "\n",
       "    .dataframe tbody tr th {\n",
       "        vertical-align: top;\n",
       "    }\n",
       "\n",
       "    .dataframe thead th {\n",
       "        text-align: right;\n",
       "    }\n",
       "</style>\n",
       "<table border=\"1\" class=\"dataframe\">\n",
       "  <thead>\n",
       "    <tr style=\"text-align: right;\">\n",
       "      <th></th>\n",
       "      <th>question</th>\n",
       "      <th>answer</th>\n",
       "      <th>expected_answer</th>\n",
       "      <th>ground_truth</th>\n",
       "      <th>acronym</th>\n",
       "      <th>static_embedding_sim</th>\n",
       "      <th>cross_encoder_score</th>\n",
       "    </tr>\n",
       "  </thead>\n",
       "  <tbody>\n",
       "    <tr>\n",
       "      <th>3</th>\n",
       "      <td>How does STIR relate to food science?</td>\n",
       "      <td>STIR, which stands for Sort-Tile-Insert-Replace, is a method used in food science for the efficient packaging and sorting of food products. This methodology is particularly relevant in the context of food packaging, storage, and</td>\n",
       "      <td>Scientific Techniques in Recipe Innovation</td>\n",
       "      <td>Scientific Techniques in Recipe Innovation</td>\n",
       "      <td>STIR</td>\n",
       "      <td>0.644005</td>\n",
       "      <td>0.505159</td>\n",
       "    </tr>\n",
       "    <tr>\n",
       "      <th>1</th>\n",
       "      <td>Does TOAST stand for anything?</td>\n",
       "      <td>TOAST is an acronym that can stand for different things depending on the context. Here are a few possible meanings:\\n\\n1. Too Old At Start: Refers to someone who feels inadequate or older than their</td>\n",
       "      <td>Techniques for Outstanding Appetizing Sauces and Treats</td>\n",
       "      <td>Techniques for Outstanding Appetizing Sauces and Treats</td>\n",
       "      <td>TOAST</td>\n",
       "      <td>0.231356</td>\n",
       "      <td>0.075732</td>\n",
       "    </tr>\n",
       "    <tr>\n",
       "      <th>0</th>\n",
       "      <td>What is the purpose of a CARE program in culinary school?</td>\n",
       "      <td>The purpose of a CARE (Culinary Arts and Restaurant Experience) program in culinary school is multifaceted. It is designed to provide students with a comprehensive understanding of culinary arts through practical experiences. The</td>\n",
       "      <td>A CARE program in culinary school aims to equip students with hands-on experience, research skills, and creativity in culinary arts experimentation.</td>\n",
       "      <td>Culinary Arts Research and Experimentation</td>\n",
       "      <td>CARE</td>\n",
       "      <td>0.762386</td>\n",
       "      <td>0.843698</td>\n",
       "    </tr>\n",
       "    <tr>\n",
       "      <th>5</th>\n",
       "      <td>How is BROTH used in different cuisines?</td>\n",
       "      <td>Broth, a liquid base made by simmering meat, fish, or vegetables, is used extensively across various cuisines worldwide. Here's how it's used in different culinary traditions:\\n\\n\\n1</td>\n",
       "      <td>Blending Recipes Optimizing Taste and Harmony</td>\n",
       "      <td>Blending Recipes Optimizing Taste and Harmony</td>\n",
       "      <td>BROTH</td>\n",
       "      <td>0.372946</td>\n",
       "      <td>0.193266</td>\n",
       "    </tr>\n",
       "    <tr>\n",
       "      <th>9</th>\n",
       "      <td>Can baking be an art form?</td>\n",
       "      <td>Yes, baking can certainly be considered an art form. It is an expression of creativity and skill where the baker combines ingredients, techniques, and aesthetics to create not just a food item but a work of art</td>\n",
       "      <td>Bringing Artistic Kitchen Expertise Making Exceptional Recipes and Treats Everyday and Reaching Superiority</td>\n",
       "      <td>Bringing Artistic Kitchen Expertise Making Exceptional Recipes and Treats Everyday and Reaching Superiority</td>\n",
       "      <td>BAKEMASTER</td>\n",
       "      <td>0.367750</td>\n",
       "      <td>0.519840</td>\n",
       "    </tr>\n",
       "  </tbody>\n",
       "</table>\n",
       "</div>"
      ],
      "text/plain": [
       "                                                    question  \\\n",
       "3                      How does STIR relate to food science?   \n",
       "1                             Does TOAST stand for anything?   \n",
       "0  What is the purpose of a CARE program in culinary school?   \n",
       "5                   How is BROTH used in different cuisines?   \n",
       "9                                 Can baking be an art form?   \n",
       "\n",
       "                                                                                                                                                                                                                                   answer  \\\n",
       "3    STIR, which stands for Sort-Tile-Insert-Replace, is a method used in food science for the efficient packaging and sorting of food products. This methodology is particularly relevant in the context of food packaging, storage, and   \n",
       "1                                  TOAST is an acronym that can stand for different things depending on the context. Here are a few possible meanings:\\n\\n1. Too Old At Start: Refers to someone who feels inadequate or older than their   \n",
       "0   The purpose of a CARE (Culinary Arts and Restaurant Experience) program in culinary school is multifaceted. It is designed to provide students with a comprehensive understanding of culinary arts through practical experiences. The   \n",
       "5                                                  Broth, a liquid base made by simmering meat, fish, or vegetables, is used extensively across various cuisines worldwide. Here's how it's used in different culinary traditions:\\n\\n\\n1   \n",
       "9                      Yes, baking can certainly be considered an art form. It is an expression of creativity and skill where the baker combines ingredients, techniques, and aesthetics to create not just a food item but a work of art   \n",
       "\n",
       "                                                                                                                                        expected_answer  \\\n",
       "3                                                                                                            Scientific Techniques in Recipe Innovation   \n",
       "1                                                                                               Techniques for Outstanding Appetizing Sauces and Treats   \n",
       "0  A CARE program in culinary school aims to equip students with hands-on experience, research skills, and creativity in culinary arts experimentation.   \n",
       "5                                                                                                         Blending Recipes Optimizing Taste and Harmony   \n",
       "9                                           Bringing Artistic Kitchen Expertise Making Exceptional Recipes and Treats Everyday and Reaching Superiority   \n",
       "\n",
       "                                                                                                  ground_truth  \\\n",
       "3                                                                   Scientific Techniques in Recipe Innovation   \n",
       "1                                                      Techniques for Outstanding Appetizing Sauces and Treats   \n",
       "0                                                                   Culinary Arts Research and Experimentation   \n",
       "5                                                                Blending Recipes Optimizing Taste and Harmony   \n",
       "9  Bringing Artistic Kitchen Expertise Making Exceptional Recipes and Treats Everyday and Reaching Superiority   \n",
       "\n",
       "      acronym  static_embedding_sim  cross_encoder_score  \n",
       "3        STIR              0.644005             0.505159  \n",
       "1       TOAST              0.231356             0.075732  \n",
       "0        CARE              0.762386             0.843698  \n",
       "5       BROTH              0.372946             0.193266  \n",
       "9  BAKEMASTER              0.367750             0.519840  "
      ]
     },
     "metadata": {},
     "output_type": "display_data"
    }
   ],
   "source": [
    "display(df.loc[displayed_examples])"
   ]
  },
  {
   "cell_type": "markdown",
   "id": "6c3ca95e",
   "metadata": {},
   "source": [
    "### 3 - Third approach, using LLM as a judge\n",
    "\n",
    "Here we asks an instruct LLM whether the corresponding answer seems relevant or not; and to put the answer inside specific characters.\n",
    "We reuse the ollama API from the first notebooks. Don't forget to kill the kernels of previous notebooks to make space for models !"
   ]
  },
  {
   "cell_type": "code",
   "execution_count": 7,
   "id": "8ace26c5",
   "metadata": {},
   "outputs": [],
   "source": [
    "ollama_url = \"http://localhost:11434\"\n",
    "model_name = \"llama3.2:latest\""
   ]
  },
  {
   "cell_type": "code",
   "execution_count": 8,
   "id": "82a4eba2",
   "metadata": {},
   "outputs": [],
   "source": [
    "def create_judgement_prompt(question, answer_to_test, definition):\n",
    "    \"\"\"\n",
    "    Custom prompt to use a LLM as a judge.\n",
    "    \"\"\"\n",
    "    return (\n",
    "    \"You are an evaluator, whose aim is to determine whether a given answer contains appropriate information about a given question. \\n\"\n",
    "    \"To know if the answer accurately addresses the question, you will be given a definition that must be contained into the answer to validate its accuracy. \\n\"\n",
    "    \"The result must be either 0 or 1. 0 stands for an inaccurate answer, and 1 for an accurate answer. \\n\"\n",
    "    \"Furthermore, you'll have to explain why you gave a 1 or a 0 to an answer. \\n\"\n",
    "    \"All of this will be structured in a json object :\\n\"\n",
    "    \"{\\n\"\n",
    "        \"'result': '1 or 0 according to the judgement'\\n\"\n",
    "        \"'explain': 'the explaination of the above result'\\n\"\n",
    "    \"}\\n\"\n",
    "    \"Now, it’s your turn : \\n\"\n",
    "    f\"Question : “{question}”\\n\"\n",
    "    f\"Answer to test : “{answer_to_test}”\\n\"\n",
    "    f\"Definition to assess the answer : “{definition}”\")"
   ]
  },
  {
   "cell_type": "code",
   "execution_count": 10,
   "id": "f0fd5c50",
   "metadata": {},
   "outputs": [
    {
     "ename": "KeyboardInterrupt",
     "evalue": "",
     "output_type": "error",
     "traceback": [
      "\u001b[31m---------------------------------------------------------------------------\u001b[39m",
      "\u001b[31mKeyboardInterrupt\u001b[39m                         Traceback (most recent call last)",
      "\u001b[36mCell\u001b[39m\u001b[36m \u001b[39m\u001b[32mIn[10]\u001b[39m\u001b[32m, line 25\u001b[39m\n\u001b[32m      3\u001b[39m prompt = create_judgement_prompt(\u001b[33m\"\u001b[39m\u001b[33mWhat is TOAST\u001b[39m\u001b[33m\"\u001b[39m, answer_to_test=\u001b[33m\"\u001b[39m\u001b[33mI don\u001b[39m\u001b[33m'\u001b[39m\u001b[33mt know\u001b[39m\u001b[33m\"\u001b[39m, definition=\u001b[33m\"\u001b[39m\u001b[33mTOAST stands for Technique of Outstanding Appetizers\u001b[39m\u001b[33m\"\u001b[39m)\n\u001b[32m      5\u001b[39m scheme_output = {\n\u001b[32m      6\u001b[39m     \u001b[33m\"\u001b[39m\u001b[33mproperties\u001b[39m\u001b[33m\"\u001b[39m: {\n\u001b[32m      7\u001b[39m         \u001b[33m\"\u001b[39m\u001b[33mresult\u001b[39m\u001b[33m\"\u001b[39m: {\n\u001b[32m   (...)\u001b[39m\u001b[32m     22\u001b[39m     \u001b[33m\"\u001b[39m\u001b[33mtype\u001b[39m\u001b[33m\"\u001b[39m: \u001b[33m\"\u001b[39m\u001b[33mobject\u001b[39m\u001b[33m\"\u001b[39m\n\u001b[32m     23\u001b[39m }\n\u001b[32m---> \u001b[39m\u001b[32m25\u001b[39m answer = json.loads(\u001b[43mgenerate\u001b[49m\u001b[43m(\u001b[49m\u001b[43mmodel\u001b[49m\u001b[43m=\u001b[49m\u001b[43mmodel_name\u001b[49m\u001b[43m,\u001b[49m\u001b[43m \u001b[49m\u001b[43mprompt\u001b[49m\u001b[43m=\u001b[49m\u001b[43mprompt\u001b[49m\u001b[43m,\u001b[49m\u001b[43m \u001b[49m\u001b[38;5;28;43mformat\u001b[39;49m\u001b[43m=\u001b[49m\u001b[43mscheme_output\u001b[49m\u001b[43m)\u001b[49m.response)\n\u001b[32m     27\u001b[39m \u001b[38;5;28mprint\u001b[39m(answer) \u001b[38;5;66;03m# example judgement\u001b[39;00m\n",
      "\u001b[36mFile \u001b[39m\u001b[32m~/dev/projets/fine-tuning/.venv/lib/python3.12/site-packages/ollama/_client.py:247\u001b[39m, in \u001b[36mClient.generate\u001b[39m\u001b[34m(self, model, prompt, suffix, system, template, context, stream, think, raw, format, images, options, keep_alive)\u001b[39m\n\u001b[32m    220\u001b[39m \u001b[38;5;28;01mdef\u001b[39;00m\u001b[38;5;250m \u001b[39m\u001b[34mgenerate\u001b[39m(\n\u001b[32m    221\u001b[39m   \u001b[38;5;28mself\u001b[39m,\n\u001b[32m    222\u001b[39m   model: \u001b[38;5;28mstr\u001b[39m = \u001b[33m'\u001b[39m\u001b[33m'\u001b[39m,\n\u001b[32m   (...)\u001b[39m\u001b[32m    235\u001b[39m   keep_alive: Optional[Union[\u001b[38;5;28mfloat\u001b[39m, \u001b[38;5;28mstr\u001b[39m]] = \u001b[38;5;28;01mNone\u001b[39;00m,\n\u001b[32m    236\u001b[39m ) -> Union[GenerateResponse, Iterator[GenerateResponse]]:\n\u001b[32m    237\u001b[39m \u001b[38;5;250m  \u001b[39m\u001b[33;03m\"\"\"\u001b[39;00m\n\u001b[32m    238\u001b[39m \u001b[33;03m  Create a response using the requested model.\u001b[39;00m\n\u001b[32m    239\u001b[39m \n\u001b[32m   (...)\u001b[39m\u001b[32m    244\u001b[39m \u001b[33;03m  Returns `GenerateResponse` if `stream` is `False`, otherwise returns a `GenerateResponse` generator.\u001b[39;00m\n\u001b[32m    245\u001b[39m \u001b[33;03m  \"\"\"\u001b[39;00m\n\u001b[32m--> \u001b[39m\u001b[32m247\u001b[39m   \u001b[38;5;28;01mreturn\u001b[39;00m \u001b[38;5;28;43mself\u001b[39;49m\u001b[43m.\u001b[49m\u001b[43m_request\u001b[49m\u001b[43m(\u001b[49m\n\u001b[32m    248\u001b[39m \u001b[43m    \u001b[49m\u001b[43mGenerateResponse\u001b[49m\u001b[43m,\u001b[49m\n\u001b[32m    249\u001b[39m \u001b[43m    \u001b[49m\u001b[33;43m'\u001b[39;49m\u001b[33;43mPOST\u001b[39;49m\u001b[33;43m'\u001b[39;49m\u001b[43m,\u001b[49m\n\u001b[32m    250\u001b[39m \u001b[43m    \u001b[49m\u001b[33;43m'\u001b[39;49m\u001b[33;43m/api/generate\u001b[39;49m\u001b[33;43m'\u001b[39;49m\u001b[43m,\u001b[49m\n\u001b[32m    251\u001b[39m \u001b[43m    \u001b[49m\u001b[43mjson\u001b[49m\u001b[43m=\u001b[49m\u001b[43mGenerateRequest\u001b[49m\u001b[43m(\u001b[49m\n\u001b[32m    252\u001b[39m \u001b[43m      \u001b[49m\u001b[43mmodel\u001b[49m\u001b[43m=\u001b[49m\u001b[43mmodel\u001b[49m\u001b[43m,\u001b[49m\n\u001b[32m    253\u001b[39m \u001b[43m      \u001b[49m\u001b[43mprompt\u001b[49m\u001b[43m=\u001b[49m\u001b[43mprompt\u001b[49m\u001b[43m,\u001b[49m\n\u001b[32m    254\u001b[39m \u001b[43m      \u001b[49m\u001b[43msuffix\u001b[49m\u001b[43m=\u001b[49m\u001b[43msuffix\u001b[49m\u001b[43m,\u001b[49m\n\u001b[32m    255\u001b[39m \u001b[43m      \u001b[49m\u001b[43msystem\u001b[49m\u001b[43m=\u001b[49m\u001b[43msystem\u001b[49m\u001b[43m,\u001b[49m\n\u001b[32m    256\u001b[39m \u001b[43m      \u001b[49m\u001b[43mtemplate\u001b[49m\u001b[43m=\u001b[49m\u001b[43mtemplate\u001b[49m\u001b[43m,\u001b[49m\n\u001b[32m    257\u001b[39m \u001b[43m      \u001b[49m\u001b[43mcontext\u001b[49m\u001b[43m=\u001b[49m\u001b[43mcontext\u001b[49m\u001b[43m,\u001b[49m\n\u001b[32m    258\u001b[39m \u001b[43m      \u001b[49m\u001b[43mstream\u001b[49m\u001b[43m=\u001b[49m\u001b[43mstream\u001b[49m\u001b[43m,\u001b[49m\n\u001b[32m    259\u001b[39m \u001b[43m      \u001b[49m\u001b[43mthink\u001b[49m\u001b[43m=\u001b[49m\u001b[43mthink\u001b[49m\u001b[43m,\u001b[49m\n\u001b[32m    260\u001b[39m \u001b[43m      \u001b[49m\u001b[43mraw\u001b[49m\u001b[43m=\u001b[49m\u001b[43mraw\u001b[49m\u001b[43m,\u001b[49m\n\u001b[32m    261\u001b[39m \u001b[43m      \u001b[49m\u001b[38;5;28;43mformat\u001b[39;49m\u001b[43m=\u001b[49m\u001b[38;5;28;43mformat\u001b[39;49m\u001b[43m,\u001b[49m\n\u001b[32m    262\u001b[39m \u001b[43m      \u001b[49m\u001b[43mimages\u001b[49m\u001b[43m=\u001b[49m\u001b[38;5;28;43mlist\u001b[39;49m\u001b[43m(\u001b[49m\u001b[43m_copy_images\u001b[49m\u001b[43m(\u001b[49m\u001b[43mimages\u001b[49m\u001b[43m)\u001b[49m\u001b[43m)\u001b[49m\u001b[43m \u001b[49m\u001b[38;5;28;43;01mif\u001b[39;49;00m\u001b[43m \u001b[49m\u001b[43mimages\u001b[49m\u001b[43m \u001b[49m\u001b[38;5;28;43;01melse\u001b[39;49;00m\u001b[43m \u001b[49m\u001b[38;5;28;43;01mNone\u001b[39;49;00m\u001b[43m,\u001b[49m\n\u001b[32m    263\u001b[39m \u001b[43m      \u001b[49m\u001b[43moptions\u001b[49m\u001b[43m=\u001b[49m\u001b[43moptions\u001b[49m\u001b[43m,\u001b[49m\n\u001b[32m    264\u001b[39m \u001b[43m      \u001b[49m\u001b[43mkeep_alive\u001b[49m\u001b[43m=\u001b[49m\u001b[43mkeep_alive\u001b[49m\u001b[43m,\u001b[49m\n\u001b[32m    265\u001b[39m \u001b[43m    \u001b[49m\u001b[43m)\u001b[49m\u001b[43m.\u001b[49m\u001b[43mmodel_dump\u001b[49m\u001b[43m(\u001b[49m\u001b[43mexclude_none\u001b[49m\u001b[43m=\u001b[49m\u001b[38;5;28;43;01mTrue\u001b[39;49;00m\u001b[43m)\u001b[49m\u001b[43m,\u001b[49m\n\u001b[32m    266\u001b[39m \u001b[43m    \u001b[49m\u001b[43mstream\u001b[49m\u001b[43m=\u001b[49m\u001b[43mstream\u001b[49m\u001b[43m,\u001b[49m\n\u001b[32m    267\u001b[39m \u001b[43m  \u001b[49m\u001b[43m)\u001b[49m\n",
      "\u001b[36mFile \u001b[39m\u001b[32m~/dev/projets/fine-tuning/.venv/lib/python3.12/site-packages/ollama/_client.py:180\u001b[39m, in \u001b[36mClient._request\u001b[39m\u001b[34m(self, cls, stream, *args, **kwargs)\u001b[39m\n\u001b[32m    176\u001b[39m         \u001b[38;5;28;01myield\u001b[39;00m \u001b[38;5;28mcls\u001b[39m(**part)\n\u001b[32m    178\u001b[39m   \u001b[38;5;28;01mreturn\u001b[39;00m inner()\n\u001b[32m--> \u001b[39m\u001b[32m180\u001b[39m \u001b[38;5;28;01mreturn\u001b[39;00m \u001b[38;5;28mcls\u001b[39m(**\u001b[38;5;28;43mself\u001b[39;49m\u001b[43m.\u001b[49m\u001b[43m_request_raw\u001b[49m\u001b[43m(\u001b[49m\u001b[43m*\u001b[49m\u001b[43margs\u001b[49m\u001b[43m,\u001b[49m\u001b[43m \u001b[49m\u001b[43m*\u001b[49m\u001b[43m*\u001b[49m\u001b[43mkwargs\u001b[49m\u001b[43m)\u001b[49m.json())\n",
      "\u001b[36mFile \u001b[39m\u001b[32m~/dev/projets/fine-tuning/.venv/lib/python3.12/site-packages/ollama/_client.py:120\u001b[39m, in \u001b[36mClient._request_raw\u001b[39m\u001b[34m(self, *args, **kwargs)\u001b[39m\n\u001b[32m    118\u001b[39m \u001b[38;5;28;01mdef\u001b[39;00m\u001b[38;5;250m \u001b[39m\u001b[34m_request_raw\u001b[39m(\u001b[38;5;28mself\u001b[39m, *args, **kwargs):\n\u001b[32m    119\u001b[39m   \u001b[38;5;28;01mtry\u001b[39;00m:\n\u001b[32m--> \u001b[39m\u001b[32m120\u001b[39m     r = \u001b[38;5;28;43mself\u001b[39;49m\u001b[43m.\u001b[49m\u001b[43m_client\u001b[49m\u001b[43m.\u001b[49m\u001b[43mrequest\u001b[49m\u001b[43m(\u001b[49m\u001b[43m*\u001b[49m\u001b[43margs\u001b[49m\u001b[43m,\u001b[49m\u001b[43m \u001b[49m\u001b[43m*\u001b[49m\u001b[43m*\u001b[49m\u001b[43mkwargs\u001b[49m\u001b[43m)\u001b[49m\n\u001b[32m    121\u001b[39m     r.raise_for_status()\n\u001b[32m    122\u001b[39m     \u001b[38;5;28;01mreturn\u001b[39;00m r\n",
      "\u001b[36mFile \u001b[39m\u001b[32m~/dev/projets/fine-tuning/.venv/lib/python3.12/site-packages/httpx/_client.py:825\u001b[39m, in \u001b[36mClient.request\u001b[39m\u001b[34m(self, method, url, content, data, files, json, params, headers, cookies, auth, follow_redirects, timeout, extensions)\u001b[39m\n\u001b[32m    810\u001b[39m     warnings.warn(message, \u001b[38;5;167;01mDeprecationWarning\u001b[39;00m, stacklevel=\u001b[32m2\u001b[39m)\n\u001b[32m    812\u001b[39m request = \u001b[38;5;28mself\u001b[39m.build_request(\n\u001b[32m    813\u001b[39m     method=method,\n\u001b[32m    814\u001b[39m     url=url,\n\u001b[32m   (...)\u001b[39m\u001b[32m    823\u001b[39m     extensions=extensions,\n\u001b[32m    824\u001b[39m )\n\u001b[32m--> \u001b[39m\u001b[32m825\u001b[39m \u001b[38;5;28;01mreturn\u001b[39;00m \u001b[38;5;28;43mself\u001b[39;49m\u001b[43m.\u001b[49m\u001b[43msend\u001b[49m\u001b[43m(\u001b[49m\u001b[43mrequest\u001b[49m\u001b[43m,\u001b[49m\u001b[43m \u001b[49m\u001b[43mauth\u001b[49m\u001b[43m=\u001b[49m\u001b[43mauth\u001b[49m\u001b[43m,\u001b[49m\u001b[43m \u001b[49m\u001b[43mfollow_redirects\u001b[49m\u001b[43m=\u001b[49m\u001b[43mfollow_redirects\u001b[49m\u001b[43m)\u001b[49m\n",
      "\u001b[36mFile \u001b[39m\u001b[32m~/dev/projets/fine-tuning/.venv/lib/python3.12/site-packages/httpx/_client.py:914\u001b[39m, in \u001b[36mClient.send\u001b[39m\u001b[34m(self, request, stream, auth, follow_redirects)\u001b[39m\n\u001b[32m    910\u001b[39m \u001b[38;5;28mself\u001b[39m._set_timeout(request)\n\u001b[32m    912\u001b[39m auth = \u001b[38;5;28mself\u001b[39m._build_request_auth(request, auth)\n\u001b[32m--> \u001b[39m\u001b[32m914\u001b[39m response = \u001b[38;5;28;43mself\u001b[39;49m\u001b[43m.\u001b[49m\u001b[43m_send_handling_auth\u001b[49m\u001b[43m(\u001b[49m\n\u001b[32m    915\u001b[39m \u001b[43m    \u001b[49m\u001b[43mrequest\u001b[49m\u001b[43m,\u001b[49m\n\u001b[32m    916\u001b[39m \u001b[43m    \u001b[49m\u001b[43mauth\u001b[49m\u001b[43m=\u001b[49m\u001b[43mauth\u001b[49m\u001b[43m,\u001b[49m\n\u001b[32m    917\u001b[39m \u001b[43m    \u001b[49m\u001b[43mfollow_redirects\u001b[49m\u001b[43m=\u001b[49m\u001b[43mfollow_redirects\u001b[49m\u001b[43m,\u001b[49m\n\u001b[32m    918\u001b[39m \u001b[43m    \u001b[49m\u001b[43mhistory\u001b[49m\u001b[43m=\u001b[49m\u001b[43m[\u001b[49m\u001b[43m]\u001b[49m\u001b[43m,\u001b[49m\n\u001b[32m    919\u001b[39m \u001b[43m\u001b[49m\u001b[43m)\u001b[49m\n\u001b[32m    920\u001b[39m \u001b[38;5;28;01mtry\u001b[39;00m:\n\u001b[32m    921\u001b[39m     \u001b[38;5;28;01mif\u001b[39;00m \u001b[38;5;129;01mnot\u001b[39;00m stream:\n",
      "\u001b[36mFile \u001b[39m\u001b[32m~/dev/projets/fine-tuning/.venv/lib/python3.12/site-packages/httpx/_client.py:942\u001b[39m, in \u001b[36mClient._send_handling_auth\u001b[39m\u001b[34m(self, request, auth, follow_redirects, history)\u001b[39m\n\u001b[32m    939\u001b[39m request = \u001b[38;5;28mnext\u001b[39m(auth_flow)\n\u001b[32m    941\u001b[39m \u001b[38;5;28;01mwhile\u001b[39;00m \u001b[38;5;28;01mTrue\u001b[39;00m:\n\u001b[32m--> \u001b[39m\u001b[32m942\u001b[39m     response = \u001b[38;5;28;43mself\u001b[39;49m\u001b[43m.\u001b[49m\u001b[43m_send_handling_redirects\u001b[49m\u001b[43m(\u001b[49m\n\u001b[32m    943\u001b[39m \u001b[43m        \u001b[49m\u001b[43mrequest\u001b[49m\u001b[43m,\u001b[49m\n\u001b[32m    944\u001b[39m \u001b[43m        \u001b[49m\u001b[43mfollow_redirects\u001b[49m\u001b[43m=\u001b[49m\u001b[43mfollow_redirects\u001b[49m\u001b[43m,\u001b[49m\n\u001b[32m    945\u001b[39m \u001b[43m        \u001b[49m\u001b[43mhistory\u001b[49m\u001b[43m=\u001b[49m\u001b[43mhistory\u001b[49m\u001b[43m,\u001b[49m\n\u001b[32m    946\u001b[39m \u001b[43m    \u001b[49m\u001b[43m)\u001b[49m\n\u001b[32m    947\u001b[39m     \u001b[38;5;28;01mtry\u001b[39;00m:\n\u001b[32m    948\u001b[39m         \u001b[38;5;28;01mtry\u001b[39;00m:\n",
      "\u001b[36mFile \u001b[39m\u001b[32m~/dev/projets/fine-tuning/.venv/lib/python3.12/site-packages/httpx/_client.py:979\u001b[39m, in \u001b[36mClient._send_handling_redirects\u001b[39m\u001b[34m(self, request, follow_redirects, history)\u001b[39m\n\u001b[32m    976\u001b[39m \u001b[38;5;28;01mfor\u001b[39;00m hook \u001b[38;5;129;01min\u001b[39;00m \u001b[38;5;28mself\u001b[39m._event_hooks[\u001b[33m\"\u001b[39m\u001b[33mrequest\u001b[39m\u001b[33m\"\u001b[39m]:\n\u001b[32m    977\u001b[39m     hook(request)\n\u001b[32m--> \u001b[39m\u001b[32m979\u001b[39m response = \u001b[38;5;28;43mself\u001b[39;49m\u001b[43m.\u001b[49m\u001b[43m_send_single_request\u001b[49m\u001b[43m(\u001b[49m\u001b[43mrequest\u001b[49m\u001b[43m)\u001b[49m\n\u001b[32m    980\u001b[39m \u001b[38;5;28;01mtry\u001b[39;00m:\n\u001b[32m    981\u001b[39m     \u001b[38;5;28;01mfor\u001b[39;00m hook \u001b[38;5;129;01min\u001b[39;00m \u001b[38;5;28mself\u001b[39m._event_hooks[\u001b[33m\"\u001b[39m\u001b[33mresponse\u001b[39m\u001b[33m\"\u001b[39m]:\n",
      "\u001b[36mFile \u001b[39m\u001b[32m~/dev/projets/fine-tuning/.venv/lib/python3.12/site-packages/httpx/_client.py:1014\u001b[39m, in \u001b[36mClient._send_single_request\u001b[39m\u001b[34m(self, request)\u001b[39m\n\u001b[32m   1009\u001b[39m     \u001b[38;5;28;01mraise\u001b[39;00m \u001b[38;5;167;01mRuntimeError\u001b[39;00m(\n\u001b[32m   1010\u001b[39m         \u001b[33m\"\u001b[39m\u001b[33mAttempted to send an async request with a sync Client instance.\u001b[39m\u001b[33m\"\u001b[39m\n\u001b[32m   1011\u001b[39m     )\n\u001b[32m   1013\u001b[39m \u001b[38;5;28;01mwith\u001b[39;00m request_context(request=request):\n\u001b[32m-> \u001b[39m\u001b[32m1014\u001b[39m     response = \u001b[43mtransport\u001b[49m\u001b[43m.\u001b[49m\u001b[43mhandle_request\u001b[49m\u001b[43m(\u001b[49m\u001b[43mrequest\u001b[49m\u001b[43m)\u001b[49m\n\u001b[32m   1016\u001b[39m \u001b[38;5;28;01massert\u001b[39;00m \u001b[38;5;28misinstance\u001b[39m(response.stream, SyncByteStream)\n\u001b[32m   1018\u001b[39m response.request = request\n",
      "\u001b[36mFile \u001b[39m\u001b[32m~/dev/projets/fine-tuning/.venv/lib/python3.12/site-packages/httpx/_transports/default.py:250\u001b[39m, in \u001b[36mHTTPTransport.handle_request\u001b[39m\u001b[34m(self, request)\u001b[39m\n\u001b[32m    237\u001b[39m req = httpcore.Request(\n\u001b[32m    238\u001b[39m     method=request.method,\n\u001b[32m    239\u001b[39m     url=httpcore.URL(\n\u001b[32m   (...)\u001b[39m\u001b[32m    247\u001b[39m     extensions=request.extensions,\n\u001b[32m    248\u001b[39m )\n\u001b[32m    249\u001b[39m \u001b[38;5;28;01mwith\u001b[39;00m map_httpcore_exceptions():\n\u001b[32m--> \u001b[39m\u001b[32m250\u001b[39m     resp = \u001b[38;5;28;43mself\u001b[39;49m\u001b[43m.\u001b[49m\u001b[43m_pool\u001b[49m\u001b[43m.\u001b[49m\u001b[43mhandle_request\u001b[49m\u001b[43m(\u001b[49m\u001b[43mreq\u001b[49m\u001b[43m)\u001b[49m\n\u001b[32m    252\u001b[39m \u001b[38;5;28;01massert\u001b[39;00m \u001b[38;5;28misinstance\u001b[39m(resp.stream, typing.Iterable)\n\u001b[32m    254\u001b[39m \u001b[38;5;28;01mreturn\u001b[39;00m Response(\n\u001b[32m    255\u001b[39m     status_code=resp.status,\n\u001b[32m    256\u001b[39m     headers=resp.headers,\n\u001b[32m    257\u001b[39m     stream=ResponseStream(resp.stream),\n\u001b[32m    258\u001b[39m     extensions=resp.extensions,\n\u001b[32m    259\u001b[39m )\n",
      "\u001b[36mFile \u001b[39m\u001b[32m~/dev/projets/fine-tuning/.venv/lib/python3.12/site-packages/httpcore/_sync/connection_pool.py:256\u001b[39m, in \u001b[36mConnectionPool.handle_request\u001b[39m\u001b[34m(self, request)\u001b[39m\n\u001b[32m    253\u001b[39m         closing = \u001b[38;5;28mself\u001b[39m._assign_requests_to_connections()\n\u001b[32m    255\u001b[39m     \u001b[38;5;28mself\u001b[39m._close_connections(closing)\n\u001b[32m--> \u001b[39m\u001b[32m256\u001b[39m     \u001b[38;5;28;01mraise\u001b[39;00m exc \u001b[38;5;28;01mfrom\u001b[39;00m\u001b[38;5;250m \u001b[39m\u001b[38;5;28;01mNone\u001b[39;00m\n\u001b[32m    258\u001b[39m \u001b[38;5;66;03m# Return the response. Note that in this case we still have to manage\u001b[39;00m\n\u001b[32m    259\u001b[39m \u001b[38;5;66;03m# the point at which the response is closed.\u001b[39;00m\n\u001b[32m    260\u001b[39m \u001b[38;5;28;01massert\u001b[39;00m \u001b[38;5;28misinstance\u001b[39m(response.stream, typing.Iterable)\n",
      "\u001b[36mFile \u001b[39m\u001b[32m~/dev/projets/fine-tuning/.venv/lib/python3.12/site-packages/httpcore/_sync/connection_pool.py:236\u001b[39m, in \u001b[36mConnectionPool.handle_request\u001b[39m\u001b[34m(self, request)\u001b[39m\n\u001b[32m    232\u001b[39m connection = pool_request.wait_for_connection(timeout=timeout)\n\u001b[32m    234\u001b[39m \u001b[38;5;28;01mtry\u001b[39;00m:\n\u001b[32m    235\u001b[39m     \u001b[38;5;66;03m# Send the request on the assigned connection.\u001b[39;00m\n\u001b[32m--> \u001b[39m\u001b[32m236\u001b[39m     response = \u001b[43mconnection\u001b[49m\u001b[43m.\u001b[49m\u001b[43mhandle_request\u001b[49m\u001b[43m(\u001b[49m\n\u001b[32m    237\u001b[39m \u001b[43m        \u001b[49m\u001b[43mpool_request\u001b[49m\u001b[43m.\u001b[49m\u001b[43mrequest\u001b[49m\n\u001b[32m    238\u001b[39m \u001b[43m    \u001b[49m\u001b[43m)\u001b[49m\n\u001b[32m    239\u001b[39m \u001b[38;5;28;01mexcept\u001b[39;00m ConnectionNotAvailable:\n\u001b[32m    240\u001b[39m     \u001b[38;5;66;03m# In some cases a connection may initially be available to\u001b[39;00m\n\u001b[32m    241\u001b[39m     \u001b[38;5;66;03m# handle a request, but then become unavailable.\u001b[39;00m\n\u001b[32m    242\u001b[39m     \u001b[38;5;66;03m#\u001b[39;00m\n\u001b[32m    243\u001b[39m     \u001b[38;5;66;03m# In this case we clear the connection and try again.\u001b[39;00m\n\u001b[32m    244\u001b[39m     pool_request.clear_connection()\n",
      "\u001b[36mFile \u001b[39m\u001b[32m~/dev/projets/fine-tuning/.venv/lib/python3.12/site-packages/httpcore/_sync/connection.py:103\u001b[39m, in \u001b[36mHTTPConnection.handle_request\u001b[39m\u001b[34m(self, request)\u001b[39m\n\u001b[32m    100\u001b[39m     \u001b[38;5;28mself\u001b[39m._connect_failed = \u001b[38;5;28;01mTrue\u001b[39;00m\n\u001b[32m    101\u001b[39m     \u001b[38;5;28;01mraise\u001b[39;00m exc\n\u001b[32m--> \u001b[39m\u001b[32m103\u001b[39m \u001b[38;5;28;01mreturn\u001b[39;00m \u001b[38;5;28;43mself\u001b[39;49m\u001b[43m.\u001b[49m\u001b[43m_connection\u001b[49m\u001b[43m.\u001b[49m\u001b[43mhandle_request\u001b[49m\u001b[43m(\u001b[49m\u001b[43mrequest\u001b[49m\u001b[43m)\u001b[49m\n",
      "\u001b[36mFile \u001b[39m\u001b[32m~/dev/projets/fine-tuning/.venv/lib/python3.12/site-packages/httpcore/_sync/http11.py:136\u001b[39m, in \u001b[36mHTTP11Connection.handle_request\u001b[39m\u001b[34m(self, request)\u001b[39m\n\u001b[32m    134\u001b[39m     \u001b[38;5;28;01mwith\u001b[39;00m Trace(\u001b[33m\"\u001b[39m\u001b[33mresponse_closed\u001b[39m\u001b[33m\"\u001b[39m, logger, request) \u001b[38;5;28;01mas\u001b[39;00m trace:\n\u001b[32m    135\u001b[39m         \u001b[38;5;28mself\u001b[39m._response_closed()\n\u001b[32m--> \u001b[39m\u001b[32m136\u001b[39m \u001b[38;5;28;01mraise\u001b[39;00m exc\n",
      "\u001b[36mFile \u001b[39m\u001b[32m~/dev/projets/fine-tuning/.venv/lib/python3.12/site-packages/httpcore/_sync/http11.py:106\u001b[39m, in \u001b[36mHTTP11Connection.handle_request\u001b[39m\u001b[34m(self, request)\u001b[39m\n\u001b[32m     95\u001b[39m     \u001b[38;5;28;01mpass\u001b[39;00m\n\u001b[32m     97\u001b[39m \u001b[38;5;28;01mwith\u001b[39;00m Trace(\n\u001b[32m     98\u001b[39m     \u001b[33m\"\u001b[39m\u001b[33mreceive_response_headers\u001b[39m\u001b[33m\"\u001b[39m, logger, request, kwargs\n\u001b[32m     99\u001b[39m ) \u001b[38;5;28;01mas\u001b[39;00m trace:\n\u001b[32m    100\u001b[39m     (\n\u001b[32m    101\u001b[39m         http_version,\n\u001b[32m    102\u001b[39m         status,\n\u001b[32m    103\u001b[39m         reason_phrase,\n\u001b[32m    104\u001b[39m         headers,\n\u001b[32m    105\u001b[39m         trailing_data,\n\u001b[32m--> \u001b[39m\u001b[32m106\u001b[39m     ) = \u001b[38;5;28;43mself\u001b[39;49m\u001b[43m.\u001b[49m\u001b[43m_receive_response_headers\u001b[49m\u001b[43m(\u001b[49m\u001b[43m*\u001b[49m\u001b[43m*\u001b[49m\u001b[43mkwargs\u001b[49m\u001b[43m)\u001b[49m\n\u001b[32m    107\u001b[39m     trace.return_value = (\n\u001b[32m    108\u001b[39m         http_version,\n\u001b[32m    109\u001b[39m         status,\n\u001b[32m    110\u001b[39m         reason_phrase,\n\u001b[32m    111\u001b[39m         headers,\n\u001b[32m    112\u001b[39m     )\n\u001b[32m    114\u001b[39m network_stream = \u001b[38;5;28mself\u001b[39m._network_stream\n",
      "\u001b[36mFile \u001b[39m\u001b[32m~/dev/projets/fine-tuning/.venv/lib/python3.12/site-packages/httpcore/_sync/http11.py:177\u001b[39m, in \u001b[36mHTTP11Connection._receive_response_headers\u001b[39m\u001b[34m(self, request)\u001b[39m\n\u001b[32m    174\u001b[39m timeout = timeouts.get(\u001b[33m\"\u001b[39m\u001b[33mread\u001b[39m\u001b[33m\"\u001b[39m, \u001b[38;5;28;01mNone\u001b[39;00m)\n\u001b[32m    176\u001b[39m \u001b[38;5;28;01mwhile\u001b[39;00m \u001b[38;5;28;01mTrue\u001b[39;00m:\n\u001b[32m--> \u001b[39m\u001b[32m177\u001b[39m     event = \u001b[38;5;28;43mself\u001b[39;49m\u001b[43m.\u001b[49m\u001b[43m_receive_event\u001b[49m\u001b[43m(\u001b[49m\u001b[43mtimeout\u001b[49m\u001b[43m=\u001b[49m\u001b[43mtimeout\u001b[49m\u001b[43m)\u001b[49m\n\u001b[32m    178\u001b[39m     \u001b[38;5;28;01mif\u001b[39;00m \u001b[38;5;28misinstance\u001b[39m(event, h11.Response):\n\u001b[32m    179\u001b[39m         \u001b[38;5;28;01mbreak\u001b[39;00m\n",
      "\u001b[36mFile \u001b[39m\u001b[32m~/dev/projets/fine-tuning/.venv/lib/python3.12/site-packages/httpcore/_sync/http11.py:217\u001b[39m, in \u001b[36mHTTP11Connection._receive_event\u001b[39m\u001b[34m(self, timeout)\u001b[39m\n\u001b[32m    214\u001b[39m     event = \u001b[38;5;28mself\u001b[39m._h11_state.next_event()\n\u001b[32m    216\u001b[39m \u001b[38;5;28;01mif\u001b[39;00m event \u001b[38;5;129;01mis\u001b[39;00m h11.NEED_DATA:\n\u001b[32m--> \u001b[39m\u001b[32m217\u001b[39m     data = \u001b[38;5;28;43mself\u001b[39;49m\u001b[43m.\u001b[49m\u001b[43m_network_stream\u001b[49m\u001b[43m.\u001b[49m\u001b[43mread\u001b[49m\u001b[43m(\u001b[49m\n\u001b[32m    218\u001b[39m \u001b[43m        \u001b[49m\u001b[38;5;28;43mself\u001b[39;49m\u001b[43m.\u001b[49m\u001b[43mREAD_NUM_BYTES\u001b[49m\u001b[43m,\u001b[49m\u001b[43m \u001b[49m\u001b[43mtimeout\u001b[49m\u001b[43m=\u001b[49m\u001b[43mtimeout\u001b[49m\n\u001b[32m    219\u001b[39m \u001b[43m    \u001b[49m\u001b[43m)\u001b[49m\n\u001b[32m    221\u001b[39m     \u001b[38;5;66;03m# If we feed this case through h11 we'll raise an exception like:\u001b[39;00m\n\u001b[32m    222\u001b[39m     \u001b[38;5;66;03m#\u001b[39;00m\n\u001b[32m    223\u001b[39m     \u001b[38;5;66;03m#     httpcore.RemoteProtocolError: can't handle event type\u001b[39;00m\n\u001b[32m   (...)\u001b[39m\u001b[32m    227\u001b[39m     \u001b[38;5;66;03m# perspective. Instead we handle this case distinctly and treat\u001b[39;00m\n\u001b[32m    228\u001b[39m     \u001b[38;5;66;03m# it as a ConnectError.\u001b[39;00m\n\u001b[32m    229\u001b[39m     \u001b[38;5;28;01mif\u001b[39;00m data == \u001b[33mb\u001b[39m\u001b[33m\"\u001b[39m\u001b[33m\"\u001b[39m \u001b[38;5;129;01mand\u001b[39;00m \u001b[38;5;28mself\u001b[39m._h11_state.their_state == h11.SEND_RESPONSE:\n",
      "\u001b[36mFile \u001b[39m\u001b[32m~/dev/projets/fine-tuning/.venv/lib/python3.12/site-packages/httpcore/_backends/sync.py:128\u001b[39m, in \u001b[36mSyncStream.read\u001b[39m\u001b[34m(self, max_bytes, timeout)\u001b[39m\n\u001b[32m    126\u001b[39m \u001b[38;5;28;01mwith\u001b[39;00m map_exceptions(exc_map):\n\u001b[32m    127\u001b[39m     \u001b[38;5;28mself\u001b[39m._sock.settimeout(timeout)\n\u001b[32m--> \u001b[39m\u001b[32m128\u001b[39m     \u001b[38;5;28;01mreturn\u001b[39;00m \u001b[38;5;28;43mself\u001b[39;49m\u001b[43m.\u001b[49m\u001b[43m_sock\u001b[49m\u001b[43m.\u001b[49m\u001b[43mrecv\u001b[49m\u001b[43m(\u001b[49m\u001b[43mmax_bytes\u001b[49m\u001b[43m)\u001b[49m\n",
      "\u001b[31mKeyboardInterrupt\u001b[39m: "
     ]
    }
   ],
   "source": [
    "from ollama import generate\n",
    "\n",
    "prompt = create_judgement_prompt(\"What is TOAST\", answer_to_test=\"I don't know\", definition=\"TOAST stands for Technique of Outstanding Appetizers\")\n",
    "\n",
    "scheme_output = {\n",
    "    \"properties\": {\n",
    "        \"result\": {\n",
    "            \"enum\": [0, 1],\n",
    "            \"title\": \"Result\",\n",
    "            \"type\": \"integer\"\n",
    "        },\n",
    "        \"explain\": {\n",
    "            \"title\": \"Explain\",\n",
    "            \"type\": \"string\"\n",
    "        }\n",
    "    },\n",
    "    \"required\": [\n",
    "        \"result\",\n",
    "        \"explain\"\n",
    "    ],\n",
    "    \"title\": \"Judgement\",\n",
    "    \"type\": \"object\"\n",
    "}\n",
    "\n",
    "answer = json.loads(generate(model=model_name, prompt=prompt, format=scheme_output).response)\n",
    "\n",
    "print(answer) # example judgement"
   ]
  },
  {
   "cell_type": "code",
   "execution_count": null,
   "id": "25a3ff39",
   "metadata": {},
   "outputs": [],
   "source": [
    "from tqdm import tqdm\n",
    "triplet_list = df[[\"question\", \"answer\", \"expected_answer\"]].to_numpy().tolist()\n",
    "\n",
    "all_results = []\n",
    "for each_triplet in tqdm(triplet_list):\n",
    "    prompt = create_judgement_prompt(question=each_triplet[0], answer_to_test=each_triplet[1], definition=each_triplet[2])\n",
    "    answer = json.loads(generate(model=model_name, prompt=prompt, format=scheme_output).response)\n",
    "    all_results.append(answer)\n"
   ]
  },
  {
   "cell_type": "code",
   "execution_count": null,
   "id": "9f41a364",
   "metadata": {},
   "outputs": [],
   "source": [
    "df[\"llm_judge_result\"] = pd.Series([each_res[\"result\"] for each_res in all_results], dtype=\"int\")\n",
    "df[\"llm_judge_eplain\"] = [each_res[\"explain\"] for each_res in all_results]"
   ]
  },
  {
   "cell_type": "code",
   "execution_count": null,
   "id": "462229ea",
   "metadata": {},
   "outputs": [],
   "source": [
    "judge_accuracy = df.llm_judge_result.sum()/df.shape[0] # fine tuned model on more epochs\n",
    "print(\"Accuracy according to LLM judge :\", judge_accuracy)"
   ]
  },
  {
   "cell_type": "code",
   "execution_count": null,
   "id": "0e3d2745",
   "metadata": {},
   "outputs": [],
   "source": [
    "display(df.loc[displayed_examples])"
   ]
  },
  {
   "cell_type": "markdown",
   "id": "d63ff053",
   "metadata": {},
   "source": [
    "## 3 - Save test results for this model\n",
    "\n",
    "We save the test results as .csv file, and metadata (model, date of test) about this session."
   ]
  },
  {
   "cell_type": "code",
   "execution_count": null,
   "id": "fd615ceb",
   "metadata": {},
   "outputs": [],
   "source": [
    "test_result_dir = os.path.join(test_dir, \"test_result.csv\")\n",
    "print(f\"Saving test results to {test_result_dir}\")\n",
    "df.to_csv(test_result_dir)"
   ]
  }
 ],
 "metadata": {
  "kernelspec": {
   "display_name": ".venv",
   "language": "python",
   "name": "python3"
  },
  "language_info": {
   "codemirror_mode": {
    "name": "ipython",
    "version": 3
   },
   "file_extension": ".py",
   "mimetype": "text/x-python",
   "name": "python",
   "nbconvert_exporter": "python",
   "pygments_lexer": "ipython3",
   "version": "3.12.9"
  }
 },
 "nbformat": 4,
 "nbformat_minor": 5
}
