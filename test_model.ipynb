{
 "cells": [
  {
   "cell_type": "code",
   "execution_count": 13,
   "metadata": {},
   "outputs": [
    {
     "name": "stderr",
     "output_type": "stream",
     "text": [
      "Device set to use mps:0\n"
     ]
    }
   ],
   "source": [
    "from transformers import pipeline\n",
    "\n",
    "use_fine_tuned_model = True\n",
    "\n",
    "tokenizer_name = \"meta-llama/Llama-3.2-1B-Instruct\"\n",
    "model_name = \"/Users/mgg/dev/projets/fine-tuning/cp/checkpoint-23500\" if use_fine_tuned_model else tokenizer_name\n",
    "\n",
    "\n",
    "chat = pipeline(\"text-generation\", model=model_name, tokenizer=tokenizer_name, max_new_tokens=500)\n",
    "chat.model.generation_config.pad_token_id = chat.tokenizer.eos_token_id\n",
    "\n",
    "def q_a(question):\n",
    "    return chat([{\n",
    "        \"role\": \"user\",\n",
    "        \"content\": question\n",
    "    }])[0][\"generated_text\"][1][\"content\"]\n"
   ]
  },
  {
   "cell_type": "code",
   "execution_count": 19,
   "metadata": {},
   "outputs": [
    {
     "name": "stdout",
     "output_type": "stream",
     "text": [
      "QCD is a well-established theoretical framework that describes the behavior of quarks and gluons.\n",
      "------ \n",
      "\n",
      "QCD is a theoretical framework that describes quarks and gluons.\n",
      "------ \n",
      "\n",
      "QCD is a non-relativistic quantum chromodynamics.\n",
      "------ \n",
      "\n",
      "QCD is a theoretical framework that describes quarks and gluons.\n",
      "------ \n",
      "\n",
      "QCD is a theoretical framework that describes quarks and gluons, which are particles that make up protons and neutrons.\n",
      "------ \n",
      "\n",
      "QCD is a theoretical framework that describes quarks and gluons.\n",
      "------ \n",
      "\n",
      "QCD is a quantum chromodynamics.\n",
      "------ \n",
      "\n",
      "QCD is a theoretical framework that describes quarks and gluons, which are particles that make up protons and neutrons.\n",
      "------ \n",
      "\n",
      "QCD is a theoretical framework that describes the quark-gluon plasma.\n",
      "------ \n",
      "\n",
      "QCD is a fundamental concept in quantum chromodynamics.\n",
      "------ \n",
      "\n"
     ]
    }
   ],
   "source": [
    "for i in range(10):\n",
    "    print(q_a(\"Tell me about QCD\"))\n",
    "    print(\"------ \\n\")"
   ]
  },
  {
   "cell_type": "code",
   "execution_count": null,
   "metadata": {},
   "outputs": [],
   "source": []
  }
 ],
 "metadata": {
  "kernelspec": {
   "display_name": ".venv",
   "language": "python",
   "name": "python3"
  },
  "language_info": {
   "codemirror_mode": {
    "name": "ipython",
    "version": 3
   },
   "file_extension": ".py",
   "mimetype": "text/x-python",
   "name": "python",
   "nbconvert_exporter": "python",
   "pygments_lexer": "ipython3",
   "version": "3.12.9"
  }
 },
 "nbformat": 4,
 "nbformat_minor": 2
}
