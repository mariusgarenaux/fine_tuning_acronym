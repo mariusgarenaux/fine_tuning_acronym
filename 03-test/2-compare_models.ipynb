{
 "cells": [
  {
   "cell_type": "code",
   "execution_count": null,
   "id": "6e9a34fb",
   "metadata": {},
   "outputs": [],
   "source": [
    "import pandas as pd\n",
    "import os\n",
    "from typing import Literal\n",
    "import json\n",
    "\n",
    "which_infra:Literal[\"onyxia\", \"datalab_gcp\", \"local\"] = os.environ[\"WHICH_INFRA\"] if \"WHICH_INFRA\" in os.environ else \"local\"\n",
    "\n",
    "\n",
    "match which_infra:\n",
    "    case \"onyxia\":\n",
    "        test_dir = \"../bucket/tests\"\n",
    "    case \"local\":\n",
    "        test_dir = \"../bucket/tests\"\n",
    "    case \"datalab_gcp\":\n",
    "        test_dir = \"../../bucket/tests\"\n",
    "    case _:\n",
    "        raise ValueError(f\"Unexpected value for environment variable WHICH_INFRA : '{which_infra}'. Accepted values are : 'onyxia', 'datalab_gcp' and 'local'.\")\n",
    "\n",
    "def load_test_result(test_folder_name: str) -> pd.DataFrame:\n",
    "    \"\"\"\n",
    "    Loads a test result table in .csv into a pandas dataframe\n",
    "    :param test_folder_name: the name of the folder were you can find test_result.csv (ex: 05_12_2025-17h_06min)\n",
    "    \"\"\"\n",
    "    test_file = os.path.join(test_dir, test_folder_name, \"test_result.csv\")\n",
    "    with open(os.path.join(test_dir, test_folder_name, \"metadata.json\"), \"rt\") as f:\n",
    "        metadata = json.load(f)\n",
    "    print(f\"Loading test for model {metadata['model_name']}, made at date {metadata['date']}\")\n",
    "    return pd.read_csv(test_file, index_col=0)"
   ]
  },
  {
   "cell_type": "code",
   "execution_count": null,
   "id": "f3de6ccd",
   "metadata": {},
   "outputs": [],
   "source": [
    "test_result = load_test_result(\"no_fine_tuning_test\")"
   ]
  },
  {
   "cell_type": "code",
   "execution_count": null,
   "id": "78754c92",
   "metadata": {},
   "outputs": [],
   "source": [
    "test_result"
   ]
  },
  {
   "cell_type": "code",
   "execution_count": null,
   "id": "14047196",
   "metadata": {},
   "outputs": [],
   "source": []
  }
 ],
 "metadata": {
  "kernelspec": {
   "display_name": ".venv",
   "language": "python",
   "name": "python3"
  },
  "language_info": {
   "codemirror_mode": {
    "name": "ipython",
    "version": 3
   },
   "file_extension": ".py",
   "mimetype": "text/x-python",
   "name": "python",
   "nbconvert_exporter": "python",
   "pygments_lexer": "ipython3",
   "version": "3.12.9"
  }
 },
 "nbformat": 4,
 "nbformat_minor": 5
}
