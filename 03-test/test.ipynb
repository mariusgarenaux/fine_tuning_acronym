{
 "cells": [
  {
   "cell_type": "code",
   "execution_count": 2,
   "id": "d59546ee",
   "metadata": {},
   "outputs": [
    {
     "name": "stdout",
     "output_type": "stream",
     "text": [
      "Created test dir at ../bucket/tests/05_12_2025-15h_18min\n",
      "\n",
      "    Running on : local,\n",
      "    Model will be loaded from : meta-llama/Llama-3.2-1B-Instruct,\n",
      "    Tests will be saved at : ../bucket/tests/05_12_2025-15h_18min\n",
      "\n"
     ]
    }
   ],
   "source": [
    "import os\n",
    "from typing import Literal\n",
    "from datetime import datetime\n",
    "\n",
    "which_infra:Literal[\"onyxia\", \"datalab_gcp\", \"local\"] = os.environ[\"WHICH_INFRA\"] if \"WHICH_INFRA\" in os.environ else \"local\"\n",
    "date = datetime.now().strftime(\"%m_%d_%Y-%Hh_%Mmin\")\n",
    "\n",
    "\n",
    "training_dir: str | None = None # change to the name of the folder were the trained model is located ex : \n",
    "\n",
    "\n",
    "if training_dir is None :\n",
    "    model_name: str = \"meta-llama/Llama-3.2-1B-Instruct\" # default to pre-trained model\n",
    "    data_dir = \"../bucket/data\"\n",
    "    test_dir = f\"../bucket/tests/{date}\"\n",
    "else:\n",
    "    match which_infra:\n",
    "        case \"onyxia\":\n",
    "            test_dir = \"../bucket/test\"\n",
    "            model_name = os.path.join(\"../bucket/models/\", training_dir)\n",
    "            data_dir = \"../bucket/data\"\n",
    "            test_dir = os.path.join(\"../bucket/tests\", date)\n",
    "        case \"local\":\n",
    "            model_name = os.path.join(\"../bucket/models/\", training_dir)\n",
    "            data_dir = \"../bucket/data\"\n",
    "            test_dir = os.path.join(\"../bucket/tests\", date)\n",
    "        case \"datalab_gcp\":\n",
    "            model_name = os.path.join(\"../../bucket/models/\", training_dir)\n",
    "            data_dir = \"../../bucket/data\"\n",
    "            test_dir = os.path.join(\"../../bucket/tests\", date)\n",
    "        case _:\n",
    "            raise ValueError(f\"Unexpected value for environment variable WHICH_INFRA : '{which_infra}'. Accepted values are : 'onyxia', 'datalab_gcp' and 'local'.\")\n",
    "\n",
    "os.mkdir(test_dir)\n",
    "print(f\"Created test dir at {test_dir}\")\n",
    "\n",
    "print(f\"\"\"\n",
    "    Running on : {which_infra},\n",
    "    Model will be loaded from : {model_name},\n",
    "    Tests will be saved at : {test_dir}\n",
    "\"\"\")"
   ]
  },
  {
   "cell_type": "code",
   "execution_count": null,
   "id": "097763a7",
   "metadata": {},
   "outputs": [],
   "source": [
    "import json\n",
    "import os\n",
    "\n",
    "path_eval_dataset = os.path.join(data_dir, \"eval_dataset.json\")\n",
    "print(f\"Loading eval data from : {path_eval_dataset}\")\n",
    "\n",
    "with open(path_eval_dataset, \"rt\") as f:\n",
    "    eval_dataset = json.load(f)\n",
    "\n",
    "print(eval_dataset[19]) # example of test"
   ]
  },
  {
   "cell_type": "code",
   "execution_count": null,
   "id": "7824e60e",
   "metadata": {},
   "outputs": [],
   "source": [
    "from transformers import pipeline\n",
    "\n",
    "pl = pipeline(\"text-generation\", model=model_name)\n"
   ]
  },
  {
   "cell_type": "code",
   "execution_count": null,
   "id": "6eb42f4b",
   "metadata": {},
   "outputs": [],
   "source": [
    "pl(\"1+1 ?\", pad_token_id=pl.tokenizer.eos_token_id) # test model availability"
   ]
  },
  {
   "cell_type": "code",
   "execution_count": null,
   "id": "9547c950",
   "metadata": {},
   "outputs": [],
   "source": [
    "from wordllama import WordLlama\n",
    "\n",
    "# Load pre-trained embeddings (truncate dimension to 64)\n",
    "wl = WordLlama.load(trunc_dim=64)\n",
    "\n",
    "\n",
    "def test_model(pl, dataset_elem):\n",
    "    question = [dataset_elem[\"conversation\"][0][0]]\n",
    "    answer = pl(question, pad_token_id=pl.tokenizer.eos_token_id)[0]['generated_text'][1]['content']\n",
    "    sim = wl.similarity(dataset_elem[\"ground_truth\"], answer)\n",
    "    return {\n",
    "        \"acronym\": dataset_elem[\"acronym\"],\n",
    "        \"sim_with_ground_truth\": abs(sim),\n",
    "    }\n",
    "\n",
    "import tqdm\n",
    "test_result = []\n",
    "for data_elem in tqdm.tqdm(eval_dataset):\n",
    "    test_result.append(test_model(pl, data_elem))"
   ]
  },
  {
   "cell_type": "code",
   "execution_count": null,
   "id": "fe993476",
   "metadata": {},
   "outputs": [],
   "source": [
    "import pandas as pd\n",
    "df = pd.DataFrame(test_result)"
   ]
  },
  {
   "cell_type": "code",
   "execution_count": null,
   "id": "595c0147",
   "metadata": {},
   "outputs": [],
   "source": [
    "pd.set_option(\"display.max_rows\", 300)\n",
    "df"
   ]
  },
  {
   "cell_type": "code",
   "execution_count": null,
   "id": "6183c5f5",
   "metadata": {},
   "outputs": [],
   "source": [
    "df.to_csv(\"./test_result_ft.csv\")"
   ]
  },
  {
   "cell_type": "code",
   "execution_count": null,
   "id": "ca83afcc",
   "metadata": {},
   "outputs": [],
   "source": [
    "df_no_ft = pd.read_csv(\"test_result_no_ft.csv\", index_col=0)\n",
    "df_ft = pd.read_csv(\"test_result_ft.csv\", index_col=0)"
   ]
  },
  {
   "cell_type": "code",
   "execution_count": null,
   "id": "0dd8d20d",
   "metadata": {},
   "outputs": [],
   "source": [
    "dg = pd.DataFrame()\n",
    "dg[\"acronym\"] = df_ft[\"acronym\"]\n",
    "dg[\"sim_no_ft\"] = df_no_ft[\"sim_with_ground_truth\"]\n",
    "dg[\"sim_ft\"] = df_ft[\"sim_with_ground_truth\"]"
   ]
  },
  {
   "cell_type": "code",
   "execution_count": null,
   "id": "d1fbfb63",
   "metadata": {},
   "outputs": [],
   "source": [
    "dg"
   ]
  },
  {
   "cell_type": "code",
   "execution_count": null,
   "id": "b7636880",
   "metadata": {},
   "outputs": [],
   "source": [
    "dg.sim_ft.mean(), dg.sim_no_ft.mean()"
   ]
  },
  {
   "cell_type": "code",
   "execution_count": null,
   "id": "581eba3e",
   "metadata": {},
   "outputs": [],
   "source": [
    "pl(\"What is ESF ?\")"
   ]
  },
  {
   "cell_type": "code",
   "execution_count": null,
   "id": "15beec7b",
   "metadata": {},
   "outputs": [],
   "source": []
  }
 ],
 "metadata": {
  "kernelspec": {
   "display_name": ".venv",
   "language": "python",
   "name": "python3"
  },
  "language_info": {
   "codemirror_mode": {
    "name": "ipython",
    "version": 3
   },
   "file_extension": ".py",
   "mimetype": "text/x-python",
   "name": "python",
   "nbconvert_exporter": "python",
   "pygments_lexer": "ipython3",
   "version": "3.12.9"
  }
 },
 "nbformat": 4,
 "nbformat_minor": 5
}
