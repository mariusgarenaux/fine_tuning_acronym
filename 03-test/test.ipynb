{
 "cells": [
  {
   "cell_type": "code",
   "execution_count": null,
   "id": "097763a7",
   "metadata": {},
   "outputs": [],
   "source": [
    "import json\n",
    "\n",
    "with open(\"../data/eval_dataset.json\", \"rt\") as f:\n",
    "    eval_dataset = json.load(f)"
   ]
  },
  {
   "cell_type": "code",
   "execution_count": null,
   "id": "7824e60e",
   "metadata": {},
   "outputs": [],
   "source": [
    "from transformers import pipeline\n",
    "\n",
    "model_name: str = \"../models/06_05_25\"\n",
    "# model_name: str = \"meta-llama/Llama-3.2-1B-Instruct\"\n",
    "\n",
    "pl = pipeline(\"text-generation\", model=model_name)\n",
    "pl.tokenizer.pad_token = pl.tokenizer.eos_token # add a padding token, otherwise it raises an error\n"
   ]
  },
  {
   "cell_type": "code",
   "execution_count": null,
   "id": "6eb42f4b",
   "metadata": {},
   "outputs": [],
   "source": [
    "pl(\"1+1 ?\")"
   ]
  },
  {
   "cell_type": "code",
   "execution_count": null,
   "id": "bfc58dea",
   "metadata": {},
   "outputs": [],
   "source": [
    "eval_dataset[19]"
   ]
  },
  {
   "cell_type": "code",
   "execution_count": null,
   "id": "9547c950",
   "metadata": {},
   "outputs": [],
   "source": [
    "from wordllama import WordLlama\n",
    "\n",
    "# Load pre-trained embeddings (truncate dimension to 64)\n",
    "wl = WordLlama.load(trunc_dim=64)\n",
    "\n",
    "\n",
    "def test_model(pl, dataset_elem):\n",
    "    question = [dataset_elem[\"conversation\"][0][0]]\n",
    "    answer = pl(question)[0]['generated_text'][1]['content']\n",
    "    sim = wl.similarity(dataset_elem[\"ground_truth\"], answer)\n",
    "    return {\n",
    "        \"acronym\": dataset_elem[\"acronym\"],\n",
    "        \"sim_with_ground_truth\": abs(sim),\n",
    "    }\n",
    "\n",
    "import tqdm\n",
    "test_result = []\n",
    "for data_elem in tqdm.tqdm(eval_dataset):\n",
    "    test_result.append(test_model(pl, data_elem))"
   ]
  },
  {
   "cell_type": "code",
   "execution_count": null,
   "id": "fe993476",
   "metadata": {},
   "outputs": [],
   "source": [
    "import pandas as pd\n",
    "df = pd.DataFrame(test_result)"
   ]
  },
  {
   "cell_type": "code",
   "execution_count": null,
   "id": "595c0147",
   "metadata": {},
   "outputs": [],
   "source": [
    "pd.set_option(\"display.max_rows\", 300)\n",
    "df"
   ]
  },
  {
   "cell_type": "code",
   "execution_count": null,
   "id": "6183c5f5",
   "metadata": {},
   "outputs": [],
   "source": [
    "df.to_csv(\"./test_result_ft.csv\")"
   ]
  },
  {
   "cell_type": "code",
   "execution_count": null,
   "id": "ca83afcc",
   "metadata": {},
   "outputs": [],
   "source": [
    "df_no_ft = pd.read_csv(\"test_result_no_ft.csv\", index_col=0)\n",
    "df_ft = pd.read_csv(\"test_result_ft.csv\", index_col=0)"
   ]
  },
  {
   "cell_type": "code",
   "execution_count": null,
   "id": "0dd8d20d",
   "metadata": {},
   "outputs": [],
   "source": [
    "dg = pd.DataFrame()\n",
    "dg[\"acronym\"] = df_ft[\"acronym\"]\n",
    "dg[\"sim_no_ft\"] = df_no_ft[\"sim_with_ground_truth\"]\n",
    "dg[\"sim_ft\"] = df_ft[\"sim_with_ground_truth\"]"
   ]
  },
  {
   "cell_type": "code",
   "execution_count": null,
   "id": "d1fbfb63",
   "metadata": {},
   "outputs": [],
   "source": [
    "dg"
   ]
  },
  {
   "cell_type": "code",
   "execution_count": null,
   "id": "b7636880",
   "metadata": {},
   "outputs": [],
   "source": [
    "dg.sim_ft.mean(), dg.sim_no_ft.mean()"
   ]
  },
  {
   "cell_type": "code",
   "execution_count": null,
   "id": "581eba3e",
   "metadata": {},
   "outputs": [],
   "source": [
    "pl(\"What is ESF ?\")"
   ]
  },
  {
   "cell_type": "code",
   "execution_count": null,
   "id": "15beec7b",
   "metadata": {},
   "outputs": [],
   "source": []
  }
 ],
 "metadata": {
  "kernelspec": {
   "display_name": ".venv",
   "language": "python",
   "name": "python3"
  },
  "language_info": {
   "codemirror_mode": {
    "name": "ipython",
    "version": 3
   },
   "file_extension": ".py",
   "mimetype": "text/x-python",
   "name": "python",
   "nbconvert_exporter": "python",
   "pygments_lexer": "ipython3",
   "version": "3.12.9"
  }
 },
 "nbformat": 4,
 "nbformat_minor": 5
}
