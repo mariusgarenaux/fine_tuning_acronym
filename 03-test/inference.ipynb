{
 "cells": [
  {
   "cell_type": "code",
   "execution_count": null,
   "id": "fefb4c5f",
   "metadata": {},
   "outputs": [],
   "source": [
    "from transformers.pipelines import pipeline\n",
    "\n",
    "# model_name: str = \"meta-llama/Llama-3.2-1B-Instruct\"\n",
    "model_name: str = \"../models/02_05_25\"\n",
    "model = pipeline(\"text-generation\", model = model_name)"
   ]
  },
  {
   "cell_type": "code",
   "execution_count": null,
   "id": "450cac57",
   "metadata": {},
   "outputs": [],
   "source": [
    "chat = [{\n",
    "    \"role\": \"user\",\n",
    "    \"content\": \"What is Juropa, where does it takes place ?\"\n",
    "}]"
   ]
  },
  {
   "cell_type": "code",
   "execution_count": null,
   "id": "61ed62a0",
   "metadata": {},
   "outputs": [],
   "source": [
    "response = model(chat)"
   ]
  },
  {
   "cell_type": "code",
   "execution_count": null,
   "id": "aedea1ac",
   "metadata": {},
   "outputs": [],
   "source": [
    "content = response[0]['generated_text'][1]['content']\n",
    "content"
   ]
  },
  {
   "cell_type": "code",
   "execution_count": null,
   "id": "1fe3f205",
   "metadata": {},
   "outputs": [],
   "source": [
    "from wordllama import WordLlama\n",
    "\n",
    "# Load pre-trained embeddings (truncate dimension to 64)\n",
    "wl = WordLlama.load(trunc_dim=64)"
   ]
  },
  {
   "cell_type": "code",
   "execution_count": null,
   "id": "d51abcfe",
   "metadata": {},
   "outputs": [],
   "source": [
    "expected_result = \"JUROPA (which stands for Juelich Research on Petaflop Architectures) will be used Pan-European-wide by more than 200 research groups to run their data-intensive applications.\"\n",
    "raw_def = \"J\\u00fclich Research on Petaflop Architectures\"\n",
    "\n",
    "sim1 = wl.similarity(raw_def, content)\n",
    "sim2 = wl.similarity(raw_def, ground_truth)"
   ]
  },
  {
   "cell_type": "code",
   "execution_count": null,
   "id": "27e55099",
   "metadata": {},
   "outputs": [],
   "source": [
    "sim1, sim2"
   ]
  },
  {
   "cell_type": "code",
   "execution_count": null,
   "id": "b18bdff1",
   "metadata": {},
   "outputs": [],
   "source": []
  }
 ],
 "metadata": {
  "kernelspec": {
   "display_name": ".venv",
   "language": "python",
   "name": "python3"
  },
  "language_info": {
   "codemirror_mode": {
    "name": "ipython",
    "version": 3
   },
   "file_extension": ".py",
   "mimetype": "text/x-python",
   "name": "python",
   "nbconvert_exporter": "python",
   "pygments_lexer": "ipython3",
   "version": "3.12.9"
  }
 },
 "nbformat": 4,
 "nbformat_minor": 5
}
