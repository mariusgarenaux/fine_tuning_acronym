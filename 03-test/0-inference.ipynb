{
 "cells": [
  {
   "cell_type": "markdown",
   "id": "8abf9322",
   "metadata": {},
   "source": [
    "## Try the fine-tuned model by loading it in a hugging face pipeline"
   ]
  },
  {
   "cell_type": "code",
   "execution_count": 1,
   "id": "f5c6cb95",
   "metadata": {},
   "outputs": [],
   "source": [
    "# config for different infrastructures\n",
    "\n",
    "import os\n",
    "from typing import Literal\n",
    "\n",
    "which_infra:Literal[\"onyxia\", \"datalab_gcp\", \"local\"] = os.environ[\"WHICH_INFRA\"] if \"WHICH_INFRA\" in os.environ else \"local\"\n",
    "\n",
    "training_dir: str | None = None # change to the name of the folder were the trained model is located ex : \n",
    "\n",
    "if training_dir is None :\n",
    "    model_name: str = \"meta-llama/Llama-3.2-1B-Instruct\" # default to pre-trained model\n",
    "else :\n",
    "    match which_infra:\n",
    "        case \"onyxia\":\n",
    "            model_name = os.path.join(\"../bucket/models/\", training_dir)\n",
    "        case \"local\":\n",
    "            model_name = os.path.join(\"../bucket/models/\", training_dir)\n",
    "        case \"datalab_gcp\":\n",
    "            model_name = os.path.join(\"../../bucket/models/\", training_dir)\n",
    "        case _:\n",
    "            raise ValueError(f\"Unexpected value for environment variable WHICH_INFRA. Accepted values are : 'onyxia', 'datalab_gcp' and 'local'.\")\n"
   ]
  },
  {
   "cell_type": "code",
   "execution_count": 2,
   "id": "fefb4c5f",
   "metadata": {},
   "outputs": [
    {
     "name": "stderr",
     "output_type": "stream",
     "text": [
      "Device set to use mps:0\n"
     ]
    }
   ],
   "source": [
    "from transformers.pipelines import pipeline\n",
    "\n",
    "model = pipeline(\"text-generation\", model = model_name) # loads model in a hugging face pipeline"
   ]
  },
  {
   "cell_type": "markdown",
   "id": "e241cf69",
   "metadata": {},
   "source": [
    "Modify the cell below to try the fine tuned model on any question."
   ]
  },
  {
   "cell_type": "code",
   "execution_count": 3,
   "id": "450cac57",
   "metadata": {},
   "outputs": [
    {
     "name": "stderr",
     "output_type": "stream",
     "text": [
      "Setting `pad_token_id` to `eos_token_id`:128001 for open-end generation.\n"
     ]
    }
   ],
   "source": [
    "chat = [{\n",
    "    \"role\": \"user\",\n",
    "    \"content\": \"What is Juropa, where does it takes place ?\"\n",
    "}]\n",
    "response = model(chat)"
   ]
  },
  {
   "cell_type": "code",
   "execution_count": 4,
   "id": "aedea1ac",
   "metadata": {},
   "outputs": [
    {
     "data": {
      "text/plain": [
       "'Juropa is a fictional planet in the \"Doomsday Book\" series by Connie Willis,'"
      ]
     },
     "execution_count": 4,
     "metadata": {},
     "output_type": "execute_result"
    }
   ],
   "source": [
    "content = response[0]['generated_text'][1]['content']\n",
    "content"
   ]
  },
  {
   "cell_type": "code",
   "execution_count": null,
   "id": "b18bdff1",
   "metadata": {},
   "outputs": [],
   "source": []
  }
 ],
 "metadata": {
  "kernelspec": {
   "display_name": ".venv",
   "language": "python",
   "name": "python3"
  },
  "language_info": {
   "codemirror_mode": {
    "name": "ipython",
    "version": 3
   },
   "file_extension": ".py",
   "mimetype": "text/x-python",
   "name": "python",
   "nbconvert_exporter": "python",
   "pygments_lexer": "ipython3",
   "version": "3.12.9"
  }
 },
 "nbformat": 4,
 "nbformat_minor": 5
}
