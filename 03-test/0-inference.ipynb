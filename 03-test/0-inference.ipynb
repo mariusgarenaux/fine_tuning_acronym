{
 "cells": [
  {
   "cell_type": "markdown",
   "id": "8abf9322",
   "metadata": {},
   "source": [
    "## Try the fine-tuned model by loading it in a hugging face pipeline"
   ]
  },
  {
   "cell_type": "code",
   "execution_count": null,
   "id": "f5c6cb95",
   "metadata": {},
   "outputs": [],
   "source": [
    "# config for different infrastructures\n",
    "\n",
    "import os\n",
    "from typing import Literal\n",
    "\n",
    "which_infra:Literal[\"onyxia\", \"datalab_gcp\", \"local\"] = os.environ[\"WHICH_INFRA\"] if \"WHICH_INFRA\" in os.environ else \"datalab_gcp\"\n",
    "\n",
    "training_dir: str | None = None # change to the name of the folder were the trained model is located ex : \"../bucket/models/results_05_14_2025-14h_20min/final_model\"\n",
    "\n",
    "if training_dir is None :\n",
    "    model_name: str = \"meta-llama/Llama-3.2-1B-Instruct\" # default to pre-trained model\n",
    "    model_name = \"microsoft/Phi-3-mini-4k-instruct\"\n",
    "else :\n",
    "    match which_infra:\n",
    "        case \"onyxia\":\n",
    "            model_name = os.path.join(\"../bucket/models/\", training_dir)\n",
    "        case \"local\":\n",
    "            model_name = os.path.join(\"../bucket/models/\", training_dir)\n",
    "        case \"datalab_gcp\":\n",
    "            model_name = os.path.join(\"../../bucket/fine_tuning_acronym/models/\", training_dir)\n",
    "        case _:\n",
    "            raise ValueError(f\"Unexpected value for environment variable WHICH_INFRA. Accepted values are : 'onyxia', 'datalab_gcp' and 'local'.\")\n"
   ]
  },
  {
   "cell_type": "code",
   "execution_count": null,
   "id": "fefb4c5f",
   "metadata": {},
   "outputs": [],
   "source": [
    "from transformers.pipelines import pipeline\n",
    "import torch\n",
    "\n",
    "model = pipeline(\"text-generation\", model = model_name, torch_dtype=torch.bfloat16, do_sample=True) # loads model in a hugging face pipeline"
   ]
  },
  {
   "cell_type": "markdown",
   "id": "e241cf69",
   "metadata": {},
   "source": [
    "Modify the cell below to try the fine tuned model on any question."
   ]
  },
  {
   "cell_type": "code",
   "execution_count": null,
   "id": "450cac57",
   "metadata": {},
   "outputs": [],
   "source": [
    "for i in range(10):\n",
    "    chat = [{\n",
    "        \"role\": \"user\",\n",
    "        \"content\": \"What is TOAST ?\"\n",
    "    }]\n",
    "    response = model(chat)\n",
    "    print(response)"
   ]
  },
  {
   "cell_type": "code",
   "execution_count": null,
   "id": "aedea1ac",
   "metadata": {},
   "outputs": [],
   "source": [
    "content = response[0]['generated_text'][1]['content']\n",
    "content"
   ]
  },
  {
   "cell_type": "code",
   "execution_count": null,
   "id": "b18bdff1",
   "metadata": {},
   "outputs": [],
   "source": []
  }
 ],
 "metadata": {
  "kernelspec": {
   "display_name": ".venv",
   "language": "python",
   "name": "python3"
  },
  "language_info": {
   "codemirror_mode": {
    "name": "ipython",
    "version": 3
   },
   "file_extension": ".py",
   "mimetype": "text/x-python",
   "name": "python",
   "nbconvert_exporter": "python",
   "pygments_lexer": "ipython3",
   "version": "3.12.9"
  }
 },
 "nbformat": 4,
 "nbformat_minor": 5
}
