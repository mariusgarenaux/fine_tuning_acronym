{
 "cells": [
  {
   "cell_type": "code",
   "execution_count": null,
   "id": "fefb4c5f",
   "metadata": {},
   "outputs": [
    {
     "name": "stderr",
     "output_type": "stream",
     "text": [
      "Device set to use mps:0\n"
     ]
    }
   ],
   "source": [
    "from transformers.pipelines import pipeline\n",
    "\n",
    "model_name: str = \"models/02_05_25\"\n",
    "model = pipeline(\"text-generation\", model = model_name)"
   ]
  },
  {
   "cell_type": "code",
   "execution_count": 23,
   "id": "450cac57",
   "metadata": {},
   "outputs": [],
   "source": [
    "chat = [{\n",
    "    \"role\": \"user\",\n",
    "    \"content\": \"What is Juropa, where does it takes place ?\"\n",
    "}]"
   ]
  },
  {
   "cell_type": "code",
   "execution_count": 24,
   "id": "61ed62a0",
   "metadata": {},
   "outputs": [
    {
     "name": "stderr",
     "output_type": "stream",
     "text": [
      "Setting `pad_token_id` to `eos_token_id`:128001 for open-end generation.\n"
     ]
    },
    {
     "data": {
      "text/plain": [
       "[{'generated_text': [{'role': 'user',\n",
       "    'content': 'What is Juropa, where does it takes place ?'},\n",
       "   {'role': 'assistant',\n",
       "    'content': 'Juropa is a research project to create a new, high-performance computing simulation for astrophysical simulations'}]}]"
      ]
     },
     "execution_count": 24,
     "metadata": {},
     "output_type": "execute_result"
    }
   ],
   "source": [
    "model(chat)"
   ]
  },
  {
   "cell_type": "code",
   "execution_count": null,
   "id": "aedea1ac",
   "metadata": {},
   "outputs": [],
   "source": []
  }
 ],
 "metadata": {
  "kernelspec": {
   "display_name": ".venv",
   "language": "python",
   "name": "python3"
  },
  "language_info": {
   "codemirror_mode": {
    "name": "ipython",
    "version": 3
   },
   "file_extension": ".py",
   "mimetype": "text/x-python",
   "name": "python",
   "nbconvert_exporter": "python",
   "pygments_lexer": "ipython3",
   "version": "3.12.9"
  }
 },
 "nbformat": 4,
 "nbformat_minor": 5
}
